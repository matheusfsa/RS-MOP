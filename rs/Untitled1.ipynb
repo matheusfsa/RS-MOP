{
 "cells": [
  {
   "cell_type": "code",
   "execution_count": 1,
   "metadata": {},
   "outputs": [],
   "source": [
    "import pandas as pd\n",
    "import json\n",
    "from sklearn.model_selection import train_test_split"
   ]
  },
  {
   "cell_type": "code",
   "execution_count": 3,
   "metadata": {},
   "outputs": [],
   "source": [
    "#df_ratings = pd.read_csv('./app/datasets/ml-1m/ratings.csv')\n",
    "df_ratings = pd.read_table('./app/datasets/ml-1m/ratings.dat', delimiter='::', names=['userId', 'movieId', 'rating', 'timestamp'], engine='python')\n",
    "#df_ratings = df_ratings[df_ratings['movieId'] in df_movies.index.values]\n",
    "counts = df_ratings['userId'].value_counts() \n",
    "users = counts[counts>=100].index.values"
   ]
  },
  {
   "cell_type": "code",
   "execution_count": 33,
   "metadata": {},
   "outputs": [
    {
     "name": "stderr",
     "output_type": "stream",
     "text": [
      "/home/matheus/eclipse-workspace/RS-MOP/rs/venv/lib/python3.6/site-packages/ipykernel_launcher.py:1: ParserWarning: Falling back to the 'python' engine because the 'c' engine does not support regex separators (separators > 1 char and different from '\\s+' are interpreted as regex); you can avoid this warning by specifying engine='python'.\n",
      "  \"\"\"Entry point for launching an IPython kernel.\n"
     ]
    }
   ],
   "source": [
    "df_ratings_1m = pd.read_table('./app/datasets/ml-1m/ratings.dat', delimiter='::', names=['userId', 'movieId', 'rating', 'timestamp'])\n",
    "df_movies = pd.read_csv('./app/datasets/movies_imdb.csv')\n",
    "df_movies = df_movies.dropna(subset=['plots', 'genres', 'directors', 'rating', 'runtimes', 'title', 'year'])\n",
    "df_movies = df_movies.loc[:, ['movieId', 'plots', 'genres', 'directors', 'rating', 'runtimes', 'title', 'year']]\n",
    "df_ratings_1m = df_ratings_1m[df_ratings_1m['movieId'].isin(df_movies['movieId'])]\n",
    "df_ratings = df_ratings_1m"
   ]
  },
  {
   "cell_type": "code",
   "execution_count": 34,
   "metadata": {},
   "outputs": [
    {
     "data": {
      "text/plain": [
       "array([3609, 1883, 5734,  240, 4829, 2943, 5347, 2575, 2818, 2472, 4243,\n",
       "       3394, 1851, 3718, 3085, 3370, 2248, 5256, 1726, 5620, 1643, 4984,\n",
       "       5607, 3457,  175, 4088, 4732,  500, 5912, 2478,  133, 3517, 5886,\n",
       "       4918,  424, 1968, 2162, 1464, 3380, 5976, 3183, 4053, 2185, 3721,\n",
       "       2468, 2167, 2020, 4773, 2446, 1870, 3105, 5862,  728, 1606,  134,\n",
       "       3821, 3546, 1796, 2024, 4489, 5568, 2457, 5526,  385, 4532, 5270,\n",
       "        187, 4566, 1500, 1948, 4512, 5140, 5217, 5517,   23, 6023, 1072,\n",
       "        425, 2148, 1671, 3963, 3364, 1577, 5676, 4509, 1626, 5811, 5450,\n",
       "       4364, 3910, 4802, 2153, 6037, 2947, 1802,  268, 2935, 4908, 4621,\n",
       "       1329])"
      ]
     },
     "execution_count": 34,
     "metadata": {},
     "output_type": "execute_result"
    }
   ],
   "source": [
    "counts = df_ratings['userId'].value_counts() \n",
    "users = counts[counts>=100].index\n",
    "users = users.values\n",
    "import numpy as np\n",
    "users = np.random.choice(users, 100, replace=False)\n",
    "users"
   ]
  },
  {
   "cell_type": "code",
   "execution_count": 35,
   "metadata": {},
   "outputs": [],
   "source": [
    "df_ratings = df_ratings[df_ratings['userId'].isin(users)]"
   ]
  },
  {
   "cell_type": "code",
   "execution_count": 38,
   "metadata": {},
   "outputs": [],
   "source": [
    "data = {}\n",
    "for user in users:\n",
    "    df_ratings_u = df_ratings[df_ratings['userId']==user]\n",
    "    df_train, df_test = train_test_split(df_ratings_u, test_size=0.3)\n",
    "    user_index = {}\n",
    "    user_index['train'] = df_train.movieId.values.tolist()\n",
    "    user_index['test'] = df_test.movieId.values.tolist()\n",
    "    data[str(user)] = user_index\n",
    "with open('./app/datasets/index_sample.txt', 'w') as outfile:\n",
    "    json.dump(data, outfile)"
   ]
  },
  {
   "cell_type": "code",
   "execution_count": 39,
   "metadata": {},
   "outputs": [
    {
     "data": {
      "text/plain": [
       "100"
      ]
     },
     "execution_count": 39,
     "metadata": {},
     "output_type": "execute_result"
    }
   ],
   "source": [
    "len(list(data.keys()))"
   ]
  },
  {
   "cell_type": "code",
   "execution_count": null,
   "metadata": {},
   "outputs": [],
   "source": []
  }
 ],
 "metadata": {
  "kernelspec": {
   "display_name": "Python 3",
   "language": "python",
   "name": "python3"
  },
  "language_info": {
   "codemirror_mode": {
    "name": "ipython",
    "version": 3
   },
   "file_extension": ".py",
   "mimetype": "text/x-python",
   "name": "python",
   "nbconvert_exporter": "python",
   "pygments_lexer": "ipython3",
   "version": "3.6.9"
  }
 },
 "nbformat": 4,
 "nbformat_minor": 2
}
