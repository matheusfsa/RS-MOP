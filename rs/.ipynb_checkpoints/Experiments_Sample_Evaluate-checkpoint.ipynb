{
 "cells": [
  {
   "cell_type": "code",
   "execution_count": 21,
   "metadata": {},
   "outputs": [],
   "source": [
    "import json\n",
    "import numpy as np\n",
    "import pandas as pd\n",
    "from app import dataset_word2vec, dataset_tfid\n",
    "from sklearn.metrics import precision_score, recall_score\n",
    "from sklearn.metrics.pairwise import cosine_similarity"
   ]
  },
  {
   "cell_type": "code",
   "execution_count": 22,
   "metadata": {},
   "outputs": [],
   "source": [
    "new_feats = None"
   ]
  },
  {
   "cell_type": "code",
   "execution_count": 23,
   "metadata": {},
   "outputs": [],
   "source": [
    "def get_diversity(solutions):\n",
    "    sim = cosine_similarity(solutions, solutions)\n",
    "    np.fill_diagonal(sim, 0)\n",
    "    return (1 - sim).sum(axis=1) * 1/(solutions.shape[0] - 1)\n",
    "\n",
    "def get_novelty(solutions, data):\n",
    "    sim = cosine_similarity(solutions, data)\n",
    "    \n",
    "    return (1-sim).max(axis=1) #* 1/(data.shape[0] - 1)\n",
    "def evaluate(user, df_movies, df_ratings, index, data):\n",
    "    df_ratings_u = df_ratings[df_ratings['userId'] == user].set_index('movieId')['rating']\n",
    "    test = df_ratings_u[index[str(user)]['test']]\n",
    "    y_true = test.copy()\n",
    "    y_true[y_true <= 3] = 0\n",
    "    y_true[y_true > 3] = 1\n",
    "    y_pred = pd.Series(np.zeros(test.shape[0]), index=test.index, dtype=int)\n",
    "    y_pred[data[str(user)]] = 1\n",
    "    solutions = df_movies.iloc[data[str(user)]].drop(columns=['title'])\n",
    "    train_data  = df_movies.iloc[index[str(user)]['train']].drop(columns=['title'])\n",
    "    res = {}\n",
    "    res['size_train'] = len(index[str(user)]['train'])\n",
    "    res['size_test'] = len(index[str(user)]['test'])\n",
    "    res['precision'] = precision_score(y_true, y_pred)\n",
    "    res['recall'] = recall_score(y_true, y_pred)\n",
    "    res['diversity'] = get_diversity(solutions).mean()\n",
    "    res['novelty'] = get_novelty(solutions, train_data).mean()\n",
    "    return res"
   ]
  },
  {
   "cell_type": "code",
   "execution_count": 24,
   "metadata": {},
   "outputs": [],
   "source": [
    "n_features = 1500\n",
    "combination = 1\n",
    "method = 'tfid'"
   ]
  },
  {
   "cell_type": "code",
   "execution_count": 25,
   "metadata": {},
   "outputs": [],
   "source": [
    "import itertools\n",
    "experiments_src = './app/recomendacoes/experiments/'+ method +'-'+ str(n_features) + '-'+str(combination) + '.txt'\n",
    "all_feats = ['genres', 'rating', 'runtimes', 'year']\n",
    "combinations = []\n",
    "for i in range(5):\n",
    "    for c in itertools.combinations(all_feats,i):\n",
    "        combinations.append(list(c))"
   ]
  },
  {
   "cell_type": "code",
   "execution_count": 26,
   "metadata": {},
   "outputs": [],
   "source": [
    "def get_movies(new_feats, combinations, combination):\n",
    "    features = combinations[combination-1]\n",
    "    if method == 'tfid':\n",
    "        content = dataset_tfid\n",
    "    if method == 'w2v':\n",
    "        content = dataset_w2v\n",
    "        \n",
    "    if new_feats is  None:\n",
    "        \n",
    "            df_movies, new_feats = content(features, op='sum', n_features=n_features, n_words=n_features)\n",
    "        if method == 'w2v':\n",
    "            \n",
    "    else:\n",
    "        df_movies, new_feats = content(features, op='sum', n_features=n_features, new_feats=new_feats,n_words=n_features)\n",
    "    return df_movies, new_feats\n",
    "        \n",
    "def get_rec(n_features, combination):\n",
    "    data = {}\n",
    "    experiments_src = './app/recomendacoes/experiments/'+ method +'-'+ str(n_features) + '-'+str(combination) + '.txt'\n",
    "    with open(experiments_src) as json_file:\n",
    "        data = json.load(json_file)\n",
    "        return data"
   ]
  },
  {
   "cell_type": "code",
   "execution_count": 7,
   "metadata": {},
   "outputs": [
    {
     "name": "stdout",
     "output_type": "stream",
     "text": [
      "Time to build vocab: 0.02 mins\n",
      "Time to train the model: 1.1 mins\n",
      "Time to compute vectors: 0.53 mins\n"
     ]
    }
   ],
   "source": [
    "df_movies, new_feats = get_movies(new_feats, combinations, combination)"
   ]
  },
  {
   "cell_type": "code",
   "execution_count": 27,
   "metadata": {},
   "outputs": [],
   "source": [
    "df_ratings = pd.read_table('./app/datasets/ml-1m/ratings.dat', delimiter='::', names=['userId', 'movieId', 'rating', 'timestamp'], engine='python')"
   ]
  },
  {
   "cell_type": "code",
   "execution_count": 28,
   "metadata": {},
   "outputs": [
    {
     "data": {
      "text/plain": [
       "dict_keys(['3609', '1883', '5734', '240', '4829', '2943', '5347', '2575', '2818', '2472', '4243', '3394', '1851', '3718', '3085', '3370', '2248', '5256', '1726', '5620', '1643', '4984', '5607', '3457', '175', '4088', '4732', '500', '5912', '2478', '133', '3517', '5886', '4918', '424', '1968', '2162', '1464', '3380', '5976', '3183', '4053', '2185', '3721', '2468', '2167', '2020', '4773', '2446', '1870', '3105', '5862', '728', '1606', '134', '3821', '3546', '1796', '2024', '4489', '5568', '2457', '5526', '385', '4532', '5270', '187', '4566', '1500', '1948', '4512', '5140', '5217', '5517', '23', '6023', '1072', '425', '2148', '1671', '3963', '3364', '1577', '5676', '4509', '1626', '5811', '5450', '4364', '3910', '4802', '2153', '6037', '2947', '1802', '268', '2935', '4908', '4621', '1329', 'last_user'])"
      ]
     },
     "execution_count": 28,
     "metadata": {},
     "output_type": "execute_result"
    }
   ],
   "source": [
    "index = {}\n",
    "with open('./app/datasets/index_sample.txt') as json_file:\n",
    "    index = json.load(json_file)\n",
    "index.keys()"
   ]
  },
  {
   "cell_type": "code",
   "execution_count": 29,
   "metadata": {},
   "outputs": [
    {
     "data": {
      "text/plain": [
       "dict_keys(['3609', '1883', '5734', '240', '4829', '2943', '5347', '2575', '2818', '2472', '4243', '3394', '1851', '3718', '3085', '3370', '2248', '5256', '1726', '5620', '1643', '4984', '5607', '3457', '175', '4088', '4732', '500', '5912', '2478', '133', '3517', '5886', '4918', '424', '1968', '2162', '1464', '3380', '5976', '3183', '4053', '2185', '3721', '2468', '2167', '2020', '4773', '2446', '1870', '3105', '5862', '728', '1606', '134', '3821', '3546', '1796', '2024', '4489', '5568', '2457', '5526', '385', '4532', '5270', '187', '4566', '1500', '1948', '4512', '5140', '5217', '5517', '23', '6023', '1072', '425', '2148', '1671', '3963', '3364', '1577', '5676', '4509', '1626', '5811', '5450', '4364', '3910', '4802', '2153', '6037', '2947', '1802', '268', '2935', '4908', '4621', '1329'])"
      ]
     },
     "execution_count": 29,
     "metadata": {},
     "output_type": "execute_result"
    }
   ],
   "source": [
    "recs = get_rec(n_features, combination)\n",
    "recs.keys()"
   ]
  },
  {
   "cell_type": "code",
   "execution_count": 30,
   "metadata": {},
   "outputs": [],
   "source": [
    "def get_results(n_features, combination):\n",
    "    recs = get_rec(n_features, combination)\n",
    "    results = pd.DataFrame([], columns=['size_train','size_test','precision', 'recall', 'diversity','novelty'])\n",
    "    user = list(recs.keys())[0]\n",
    "    for user in recs.keys():\n",
    "        rec = evaluate(int(user), df_movies, df_ratings, index, recs)\n",
    "        results = results.append(rec, ignore_index=True)\n",
    "\n",
    "    results.index = list(recs.keys())\n",
    "    results.to_csv('./app/recomendacoes/experiments/results/w2v-'+ str(n_features) + '-'+str(combination) + '.csv')\n",
    "    return results\n",
    "#results = get_results(n_features, combination)"
   ]
  },
  {
   "cell_type": "code",
   "execution_count": 12,
   "metadata": {},
   "outputs": [
    {
     "data": {
      "text/plain": [
       "precision    0.607319\n",
       "recall       0.194157\n",
       "diversity    0.097823\n",
       "novelty      0.015717\n",
       "Name: mean, dtype: float64"
      ]
     },
     "execution_count": 12,
     "metadata": {},
     "output_type": "execute_result"
    }
   ],
   "source": [
    "results = pd.read_csv('./app/recomendacoes/experiments/results/w2v-' + str(n_features) + '-' +str(combination) + '.csv', index_col=0)\n",
    "results.describe().loc['mean', ['precision', 'recall', 'diversity','novelty']]"
   ]
  },
  {
   "cell_type": "code",
   "execution_count": null,
   "metadata": {},
   "outputs": [
    {
     "name": "stdout",
     "output_type": "stream",
     "text": [
      "Combinação: 1\n",
      "precision    0.646260\n",
      "recall       0.212763\n",
      "diversity    0.103628\n",
      "novelty      0.046088\n",
      "Name: mean, dtype: float64\n",
      "------------------------------\n",
      "Combinação: 2\n",
      "precision    0.643095\n",
      "recall       0.208189\n",
      "diversity    0.099753\n",
      "novelty      0.163705\n",
      "Name: mean, dtype: float64\n",
      "------------------------------\n",
      "Combinação: 3\n",
      "precision    0.644725\n",
      "recall       0.208814\n",
      "diversity    0.101387\n",
      "novelty      0.367858\n",
      "Name: mean, dtype: float64\n",
      "------------------------------\n",
      "Combinação: 4\n",
      "precision    0.665159\n",
      "recall       0.216210\n",
      "diversity    0.094839\n",
      "novelty      0.047380\n",
      "Name: mean, dtype: float64\n",
      "------------------------------\n",
      "Combinação: 5\n",
      "precision    0.636771\n",
      "recall       0.205162\n",
      "diversity    0.126595\n",
      "novelty      0.658996\n",
      "Name: mean, dtype: float64\n",
      "------------------------------\n",
      "Combinação: 6\n",
      "precision    0.632235\n",
      "recall       0.202021\n",
      "diversity    0.103215\n",
      "novelty      0.379716\n",
      "Name: mean, dtype: float64\n",
      "------------------------------\n",
      "Combinação: 7\n",
      "precision    0.655363\n",
      "recall       0.210614\n",
      "diversity    0.097660\n",
      "novelty      0.164236\n",
      "Name: mean, dtype: float64\n",
      "------------------------------\n",
      "Combinação: 8\n",
      "precision    0.660066\n",
      "recall       0.210054\n",
      "diversity    0.122627\n",
      "novelty      0.659007\n",
      "Name: mean, dtype: float64\n",
      "------------------------------\n",
      "Combinação: 9\n",
      "precision    0.648189\n",
      "recall       0.205785\n",
      "diversity    0.107734\n",
      "novelty      0.368369\n",
      "Name: mean, dtype: float64\n",
      "------------------------------\n",
      "Combinação: 10\n",
      "precision    0.652221\n",
      "recall       0.204753\n",
      "diversity    0.129965\n",
      "novelty      0.662485\n",
      "Name: mean, dtype: float64\n",
      "------------------------------\n",
      "Combinação: 11\n",
      "precision    0.656639\n",
      "recall       0.208708\n",
      "diversity    0.115044\n",
      "novelty      0.659055\n",
      "Name: mean, dtype: float64\n",
      "------------------------------\n",
      "Combinação: 12\n",
      "precision    0.643530\n",
      "recall       0.201276\n",
      "diversity    0.112348\n",
      "novelty      0.377334\n",
      "Name: mean, dtype: float64\n",
      "------------------------------\n",
      "Combinação: 13\n",
      "precision    0.646513\n",
      "recall       0.209405\n",
      "diversity    0.125802\n",
      "novelty      0.660570\n",
      "Name: mean, dtype: float64\n",
      "------------------------------\n"
     ]
    }
   ],
   "source": [
    "for i in range(1, 17):\n",
    "    df_movies, new_feats = get_movies(new_feats, combinations, i)\n",
    "    results = get_results(n_features, i)\n",
    "    print('Combinação:', i)\n",
    "    print(results.describe().loc['mean', ['precision', 'recall', 'diversity','novelty']])\n",
    "    print('------------------------------')"
   ]
  },
  {
   "cell_type": "code",
   "execution_count": 13,
   "metadata": {},
   "outputs": [
    {
     "data": {
      "text/plain": [
       "250"
      ]
     },
     "execution_count": 13,
     "metadata": {},
     "output_type": "execute_result"
    }
   ],
   "source": [
    "n_features"
   ]
  },
  {
   "cell_type": "code",
   "execution_count": null,
   "metadata": {},
   "outputs": [],
   "source": []
  }
 ],
 "metadata": {
  "kernelspec": {
   "display_name": "Python 3",
   "language": "python",
   "name": "python3"
  },
  "language_info": {
   "codemirror_mode": {
    "name": "ipython",
    "version": 3
   },
   "file_extension": ".py",
   "mimetype": "text/x-python",
   "name": "python",
   "nbconvert_exporter": "python",
   "pygments_lexer": "ipython3",
   "version": "3.6.9"
  }
 },
 "nbformat": 4,
 "nbformat_minor": 2
}
