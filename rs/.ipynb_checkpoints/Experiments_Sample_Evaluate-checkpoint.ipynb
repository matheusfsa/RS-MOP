{
 "cells": [
  {
   "cell_type": "code",
   "execution_count": 9,
   "metadata": {},
   "outputs": [],
   "source": [
    "import json\n",
    "import numpy as np\n",
    "import pandas as pd\n",
    "from app import dataset_word2vec, dataset_tfid\n",
    "from sklearn.metrics import precision_score, recall_score\n",
    "from sklearn.metrics.pairwise import cosine_similarity"
   ]
  },
  {
   "cell_type": "code",
   "execution_count": 10,
   "metadata": {},
   "outputs": [],
   "source": [
    "new_feats = None"
   ]
  },
  {
   "cell_type": "code",
   "execution_count": 11,
   "metadata": {},
   "outputs": [],
   "source": [
    "def get_diversity(solutions):\n",
    "    sim = cosine_similarity(solutions, solutions)\n",
    "    np.fill_diagonal(sim, 0)\n",
    "    return (1 - sim).sum(axis=1) * 1/(solutions.shape[0] - 1)\n",
    "\n",
    "def get_novelty(solutions, data):\n",
    "    sim = cosine_similarity(solutions, data)\n",
    "    \n",
    "    return (1-sim).max(axis=1) #* 1/(data.shape[0] - 1)\n",
    "def evaluate(user, df_movies, df_ratings, index, data):\n",
    "    df_ratings_u = df_ratings[df_ratings['userId'] == user].set_index('movieId')['rating']\n",
    "    test = df_ratings_u[index[str(user)]['test']]\n",
    "    y_true = test.copy()\n",
    "    y_true[y_true <= 3] = 0\n",
    "    y_true[y_true > 3] = 1\n",
    "    y_pred = pd.Series(np.zeros(test.shape[0]), index=test.index, dtype=int)\n",
    "    y_pred[data[str(user)]] = 1\n",
    "    solutions = df_movies.iloc[data[str(user)]].drop(columns=['title'])\n",
    "    train_data  = df_movies.iloc[index[str(user)]['train']].drop(columns=['title'])\n",
    "    res = {}\n",
    "    res['size_train'] = len(index[str(user)]['train'])\n",
    "    res['size_test'] = len(index[str(user)]['test'])\n",
    "    res['precision'] = precision_score(y_true, y_pred)\n",
    "    res['recall'] = recall_score(y_true, y_pred)\n",
    "    res['diversity'] = get_diversity(solutions).mean()\n",
    "    res['novelty'] = get_novelty(solutions, train_data).mean()\n",
    "    return res"
   ]
  },
  {
   "cell_type": "code",
   "execution_count": 12,
   "metadata": {},
   "outputs": [],
   "source": [
    "n_features = 150\n",
    "combination = 10\n",
    "method = 'w2v'"
   ]
  },
  {
   "cell_type": "code",
   "execution_count": 13,
   "metadata": {},
   "outputs": [],
   "source": [
    "import itertools\n",
    "experiments_src = './app/recomendacoes/'+ method +'-'+ str(n_features) + '-'+str(combination) + '.txt'\n",
    "all_feats = ['genres', 'rating', 'runtimes', 'year']\n",
    "combinations = []\n",
    "for i in range(5):\n",
    "    for c in itertools.combinations(all_feats,i):\n",
    "        combinations.append(list(c))"
   ]
  },
  {
   "cell_type": "code",
   "execution_count": 16,
   "metadata": {},
   "outputs": [],
   "source": [
    "def get_movies(method, new_feats, combinations, combination):\n",
    "    features = combinations[combination-1]\n",
    "    if method == 'tfid':\n",
    "        content = dataset_tfid\n",
    "    if method == 'w2v':\n",
    "        content = dataset_word2vec\n",
    "        \n",
    "    if new_feats is  None:\n",
    "        \n",
    "            df_movies, new_feats = content(features, op='sum', n_features=n_features, n_words=n_features)\n",
    "            \n",
    "    else:\n",
    "        df_movies, new_feats = content(features, op='sum', n_features=n_features, new_feats=new_feats,n_words=n_features)\n",
    "    return df_movies, new_feats\n",
    "        \n",
    "def get_rec(src_folder,name,  n_features, combination, model, nsga_iteractions):\n",
    "    data = {}\n",
    "    experiments_src = src_folder + name + '-'+str(n_features) + '-'+str(combination) + '-' + model + '-'+ str(nsga_iteractions) + '.txt'\n",
    "    #experiments_src = './app/recomendacoes/cf-recomendacoes.txt'\n",
    "    with open(experiments_src) as json_file:\n",
    "        data = json.load(json_file)\n",
    "        return data"
   ]
  },
  {
   "cell_type": "code",
   "execution_count": 18,
   "metadata": {},
   "outputs": [
    {
     "name": "stdout",
     "output_type": "stream",
     "text": [
      "Time to build vocab: 0.02 mins\n",
      "Time to train the model: 1.04 mins\n",
      "Time to compute vectors: 0.51 mins\n"
     ]
    }
   ],
   "source": [
    "df_movies, new_feats = get_movies(method, new_feats, combinations, combination)"
   ]
  },
  {
   "cell_type": "code",
   "execution_count": 19,
   "metadata": {},
   "outputs": [],
   "source": [
    "df_ratings = pd.read_table('./app/datasets/ml-1m/ratings.dat', delimiter='::', names=['userId', 'movieId', 'rating', 'timestamp'], engine='python')"
   ]
  },
  {
   "cell_type": "code",
   "execution_count": 27,
   "metadata": {},
   "outputs": [
    {
     "data": {
      "text/plain": [
       "dict_keys(['3315', '4837', '3158', '3726', '1887', '5841', '2750', '5709', '5193', '816', '558', '3169', '2395', '4084', '2', '35', '1224', '5607', '4053', '3563', '5466', '1162', '1361', '2564', '5831'])"
      ]
     },
     "execution_count": 27,
     "metadata": {},
     "output_type": "execute_result"
    }
   ],
   "source": [
    "index = {}\n",
    "with open('./app/datasets/index_sample.txt') as json_file:\n",
    "    index = json.load(json_file)\n",
    "index.keys()\n",
    "del index['last_user']\n",
    "index.keys()"
   ]
  },
  {
   "cell_type": "code",
   "execution_count": 21,
   "metadata": {},
   "outputs": [
    {
     "ename": "TypeError",
     "evalue": "get_rec() missing 4 required positional arguments: 'n_features', 'combination', 'model', and 'nsga_iteractions'",
     "output_type": "error",
     "traceback": [
      "\u001b[0;31m---------------------------------------------------------------------------\u001b[0m",
      "\u001b[0;31mTypeError\u001b[0m                                 Traceback (most recent call last)",
      "\u001b[0;32m<ipython-input-21-9a7d5ff2073d>\u001b[0m in \u001b[0;36m<module>\u001b[0;34m\u001b[0m\n\u001b[0;32m----> 1\u001b[0;31m \u001b[0mrecs\u001b[0m \u001b[0;34m=\u001b[0m \u001b[0mget_rec\u001b[0m\u001b[0;34m(\u001b[0m\u001b[0mn_features\u001b[0m\u001b[0;34m,\u001b[0m \u001b[0mcombination\u001b[0m\u001b[0;34m)\u001b[0m\u001b[0;34m\u001b[0m\u001b[0;34m\u001b[0m\u001b[0m\n\u001b[0m\u001b[1;32m      2\u001b[0m \u001b[0mrecs\u001b[0m\u001b[0;34m.\u001b[0m\u001b[0mkeys\u001b[0m\u001b[0;34m(\u001b[0m\u001b[0;34m)\u001b[0m\u001b[0;34m\u001b[0m\u001b[0;34m\u001b[0m\u001b[0m\n",
      "\u001b[0;31mTypeError\u001b[0m: get_rec() missing 4 required positional arguments: 'n_features', 'combination', 'model', and 'nsga_iteractions'"
     ]
    }
   ],
   "source": [
    "recs = get_rec(n_features, combination)\n",
    "recs.keys()\n"
   ]
  },
  {
   "cell_type": "code",
   "execution_count": 39,
   "metadata": {},
   "outputs": [],
   "source": [
    "def get_results(src_folder, name, nsga_iteractions, model, n_features, combination):\n",
    "    recs = get_rec(src_folder, name, n_features, combination, model, nsga_iteractions)\n",
    "    results = pd.DataFrame([], columns=['size_train','size_test','precision', 'recall', 'diversity','novelty'])\n",
    "    if 'None' in recs.keys():\n",
    "        del recs['None']\n",
    "    df_movies, new_feats = get_movies(name, None, combinations, combination)\n",
    "    for user in recs.keys():\n",
    "        rec = evaluate(int(user), df_movies, df_ratings, index, recs)\n",
    "        results = results.append(rec, ignore_index=True)\n",
    "\n",
    "    results.index = list(recs.keys())\n",
    "    #print('./app/recomendacoes/experiments/results/'+ method + '-'+ str(n_features) + '-'+str(combination) + '.csv')\n",
    "    #results.to_csv('./app/recomendacoes/experiments/results/'+ method + '-'+ str(n_features) + '-'+str(combination) + '.csv')\n",
    "    return results\n",
    "#results = get_results(n_features, combination)"
   ]
  },
  {
   "cell_type": "code",
   "execution_count": 40,
   "metadata": {},
   "outputs": [
    {
     "name": "stdout",
     "output_type": "stream",
     "text": [
      "name: w2v model: ridge nsga_iteractions: 200 n_features: 150\n",
      "Time to build vocab: 0.02 mins\n",
      "Time to train the model: 1.07 mins\n",
      "Time to compute vectors: 0.54 mins\n",
      "      precision    recall  diversity   novelty\n",
      "mean   0.726061  0.219244   0.093284  0.050929\n",
      "max    1.000000  0.476190   0.114669  0.142721\n",
      "name: tfid model: ridge nsga_iteractions: 200 n_features: 2000\n",
      "      precision    recall  diversity   novelty\n",
      "mean   0.703333  0.216747   0.093955  0.149922\n",
      "max    1.000000  0.400000   0.165938  0.402239\n"
     ]
    }
   ],
   "source": [
    "#results = pd.read_csv('./app/recomendacoes/experiments/results/'+ method + '+ str(n_features) + '-' +str(combination) + '.csv', index_col=0)\n",
    "src_folder = './app/recomendacoes/experiments/moea-rs/'\n",
    "name = 'w2v'\n",
    "nsga_iteractions = 200\n",
    "model ='ridge'\n",
    "variations = [('w2v','ridge', 200, 150, 10), ('w2v','ridge', 300, 150, 10),\n",
    "              ('w2v','ridge', 200, 250, 9), ('w2v','ridge', 300, 250, 9), \n",
    "              ('w2v','gbr', 200, 250, 13), ('w2v','gbr', 300, 250, 13),\n",
    "              ('w2v','ridge', 200, 150, 15), ('w2v','ridge', 300, 150, 15),\n",
    "              ('w2v','ridge', 200, 150, 9), ('w2v','ridge', 300, 150, 9)]\n",
    "for name, model, nsga_iteractions, n_features, combination in variations:\n",
    "    print('name:', name, 'model:', model, 'nsga_iteractions:', nsga_iteractions, 'n_features:',n_features)\n",
    "    results = get_results(src_folder, name, nsga_iteractions, model, n_features, combination)\n",
    "    print(results.describe().loc[['mean', 'max'], ['precision', 'recall', 'diversity','novelty']])"
   ]
  },
  {
   "cell_type": "code",
   "execution_count": 34,
   "metadata": {},
   "outputs": [
    {
     "data": {
      "text/html": [
       "<div>\n",
       "<style scoped>\n",
       "    .dataframe tbody tr th:only-of-type {\n",
       "        vertical-align: middle;\n",
       "    }\n",
       "\n",
       "    .dataframe tbody tr th {\n",
       "        vertical-align: top;\n",
       "    }\n",
       "\n",
       "    .dataframe thead th {\n",
       "        text-align: right;\n",
       "    }\n",
       "</style>\n",
       "<table border=\"1\" class=\"dataframe\">\n",
       "  <thead>\n",
       "    <tr style=\"text-align: right;\">\n",
       "      <th></th>\n",
       "      <th>precision</th>\n",
       "      <th>recall</th>\n",
       "      <th>diversity</th>\n",
       "      <th>novelty</th>\n",
       "    </tr>\n",
       "  </thead>\n",
       "  <tbody>\n",
       "    <tr>\n",
       "      <th>mean</th>\n",
       "      <td>0.726061</td>\n",
       "      <td>0.219244</td>\n",
       "      <td>0.093287</td>\n",
       "      <td>0.051010</td>\n",
       "    </tr>\n",
       "    <tr>\n",
       "      <th>max</th>\n",
       "      <td>1.000000</td>\n",
       "      <td>0.476190</td>\n",
       "      <td>0.114705</td>\n",
       "      <td>0.142936</td>\n",
       "    </tr>\n",
       "  </tbody>\n",
       "</table>\n",
       "</div>"
      ],
      "text/plain": [
       "      precision    recall  diversity   novelty\n",
       "mean   0.726061  0.219244   0.093287  0.051010\n",
       "max    1.000000  0.476190   0.114705  0.142936"
      ]
     },
     "execution_count": 34,
     "metadata": {},
     "output_type": "execute_result"
    }
   ],
   "source": [
    "results.describe().loc[['mean', 'max'], ['precision', 'recall', 'diversity','novelty']]"
   ]
  },
  {
   "cell_type": "code",
   "execution_count": 41,
   "metadata": {},
   "outputs": [
    {
     "name": "stdout",
     "output_type": "stream",
     "text": [
      "Combinação: 1\n",
      "precision    0.661087\n",
      "recall       0.211077\n",
      "diversity    0.097062\n",
      "novelty      0.046098\n",
      "Name: mean, dtype: float64\n",
      "------------------------------\n",
      "Combinação: 2\n",
      "precision    0.639331\n",
      "recall       0.208399\n",
      "diversity    0.098184\n",
      "novelty      0.163688\n",
      "Name: mean, dtype: float64\n",
      "------------------------------\n"
     ]
    },
    {
     "name": "stderr",
     "output_type": "stream",
     "text": [
      "/home/matheus/eclipse-workspace/RS-MOP/rs/venv/lib/python3.6/site-packages/ipykernel_launcher.py:4: RuntimeWarning: divide by zero encountered in true_divide\n",
      "  after removing the cwd from sys.path.\n"
     ]
    },
    {
     "name": "stdout",
     "output_type": "stream",
     "text": [
      "Combinação: 3\n",
      "precision    0.661167\n",
      "recall       0.213234\n",
      "diversity         inf\n",
      "novelty      0.369050\n",
      "Name: mean, dtype: float64\n",
      "------------------------------\n",
      "Combinação: 4\n",
      "precision    0.632167\n",
      "recall       0.205201\n",
      "diversity    0.093548\n",
      "novelty      0.047371\n",
      "Name: mean, dtype: float64\n",
      "------------------------------\n",
      "Combinação: 5\n",
      "precision    0.640670\n",
      "recall       0.204563\n",
      "diversity    0.112608\n",
      "novelty      0.655535\n",
      "Name: mean, dtype: float64\n",
      "------------------------------\n",
      "Combinação: 6\n",
      "precision    0.651209\n",
      "recall       0.210108\n",
      "diversity    0.101647\n",
      "novelty      0.378178\n",
      "Name: mean, dtype: float64\n",
      "------------------------------\n",
      "Combinação: 7\n",
      "precision    0.653948\n",
      "recall       0.207473\n",
      "diversity    0.098317\n",
      "novelty      0.163604\n",
      "Name: mean, dtype: float64\n",
      "------------------------------\n",
      "Combinação: 8\n",
      "precision    0.643054\n",
      "recall       0.203777\n",
      "diversity    0.117209\n",
      "novelty      0.653232\n",
      "Name: mean, dtype: float64\n",
      "------------------------------\n",
      "Combinação: 9\n",
      "precision    0.646947\n",
      "recall       0.210407\n",
      "diversity    0.104566\n",
      "novelty      0.368358\n",
      "Name: mean, dtype: float64\n",
      "------------------------------\n",
      "Combinação: 10\n",
      "precision    0.650821\n",
      "recall       0.207043\n",
      "diversity    0.116182\n",
      "novelty      0.659202\n",
      "Name: mean, dtype: float64\n",
      "------------------------------\n",
      "Combinação: 11\n",
      "precision    0.636273\n",
      "recall       0.204559\n",
      "diversity    0.117341\n",
      "novelty      0.655194\n",
      "Name: mean, dtype: float64\n",
      "------------------------------\n",
      "Combinação: 12\n",
      "precision    0.657551\n",
      "recall       0.217017\n",
      "diversity    0.102310\n",
      "novelty      0.379590\n",
      "Name: mean, dtype: float64\n",
      "------------------------------\n",
      "Combinação: 13\n",
      "precision    0.655374\n",
      "recall       0.212671\n",
      "diversity    0.115207\n",
      "novelty      0.660417\n",
      "Name: mean, dtype: float64\n",
      "------------------------------\n",
      "Combinação: 14\n",
      "precision    0.652593\n",
      "recall       0.208454\n",
      "diversity    0.112362\n",
      "novelty      0.656845\n",
      "Name: mean, dtype: float64\n",
      "------------------------------\n",
      "Combinação: 15\n",
      "precision    0.640647\n",
      "recall       0.206596\n",
      "diversity    0.114304\n",
      "novelty      0.660347\n",
      "Name: mean, dtype: float64\n",
      "------------------------------\n",
      "Combinação: 16\n",
      "precision    0.681703\n",
      "recall       0.219123\n",
      "diversity    0.118858\n",
      "novelty      0.657903\n",
      "Name: mean, dtype: float64\n",
      "------------------------------\n"
     ]
    }
   ],
   "source": [
    "for i in range(16, 17):\n",
    "    df_movies, new_feats = get_movies(new_feats, combinations, i)\n",
    "    results = get_results(n_features, i)\n",
    "    print('Combinação:', i)\n",
    "    print(results.describe().loc['mean', ['precision', 'recall', 'diversity','novelty']])\n",
    "    print('------------------------------')"
   ]
  },
  {
   "cell_type": "code",
   "execution_count": 13,
   "metadata": {},
   "outputs": [
    {
     "data": {
      "text/plain": [
       "250"
      ]
     },
     "execution_count": 13,
     "metadata": {},
     "output_type": "execute_result"
    }
   ],
   "source": [
    "n_features"
   ]
  },
  {
   "cell_type": "code",
   "execution_count": null,
   "metadata": {},
   "outputs": [],
   "source": []
  }
 ],
 "metadata": {
  "kernelspec": {
   "display_name": "Python 3",
   "language": "python",
   "name": "python3"
  },
  "language_info": {
   "codemirror_mode": {
    "name": "ipython",
    "version": 3
   },
   "file_extension": ".py",
   "mimetype": "text/x-python",
   "name": "python",
   "nbconvert_exporter": "python",
   "pygments_lexer": "ipython3",
   "version": "3.6.9"
  }
 },
 "nbformat": 4,
 "nbformat_minor": 2
}
