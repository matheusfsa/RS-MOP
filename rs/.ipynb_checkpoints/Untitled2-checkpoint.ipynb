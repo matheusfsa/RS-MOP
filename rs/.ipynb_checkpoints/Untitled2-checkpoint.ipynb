{
 "cells": [
  {
   "cell_type": "code",
   "execution_count": 10,
   "metadata": {},
   "outputs": [],
   "source": [
    "import json\n",
    "import numpy as np\n",
    "import pandas as pd\n",
    "from app import dataset_word2vec, dataset_tfid\n",
    "from sklearn.metrics import precision_score, recall_score\n",
    "from sklearn.metrics.pairwise import cosine_similarity\n",
    "import itertools\n",
    "import matplotlib.pyplot as plt"
   ]
  },
  {
   "cell_type": "code",
   "execution_count": 2,
   "metadata": {},
   "outputs": [
    {
     "data": {
      "text/plain": [
       "2933"
      ]
     },
     "execution_count": 2,
     "metadata": {},
     "output_type": "execute_result"
    }
   ],
   "source": [
    "def get_diversity(solutions):\n",
    "    sim = cosine_similarity(solutions, solutions)\n",
    "    np.fill_diagonal(sim, 0)\n",
    "    return (1 - sim).sum(axis=1) * 1/(solutions.shape[0] - 1)\n",
    "\n",
    "def get_novelty(solutions, data):\n",
    "    sim = cosine_similarity(solutions, data)\n",
    "    \n",
    "    return (1-sim).max(axis=1) #* 1/(data.shape[0] - 1)\n",
    "def evaluate(user, df_movies, df_ratings, index, data):\n",
    "    df_ratings_u = df_ratings[df_ratings['userId'] == user].set_index('movieId')['rating']\n",
    "    test = df_ratings_u[index[str(user)]['test']]\n",
    "    y_true = test.copy()\n",
    "    y_true[y_true < 3] = 0\n",
    "    y_true[y_true >= 3] = 1\n",
    "    y_pred = pd.Series(np.zeros(test.shape[0]), index=test.index, dtype=int)\n",
    "    y_pred[data[str(user)]] = 1\n",
    "    solutions = df_movies.iloc[data[str(user)]].drop(columns=['title'])\n",
    "    train_data  = df_movies.iloc[index[str(user)]['train']].drop(columns=['title'])\n",
    "    res = {}\n",
    "    res['size_pred'] = len(data[str(user)])\n",
    "    res['size_train'] = len(index[str(user)]['train'])\n",
    "    res['size_test'] = len(index[str(user)]['test'])\n",
    "    res['precision'] = precision_score(y_true, y_pred)\n",
    "    res['recall'] = recall_score(y_true, y_pred)\n",
    "    \n",
    "    if len(data[str(user)]) == 1:\n",
    "        diversity = 0\n",
    "    else:\n",
    "        diversity = get_diversity(solutions).mean()\n",
    "    res['diversity'] = diversity\n",
    "    res['novelty'] = get_novelty(solutions, train_data).mean()\n",
    "    return res\n"
   ]
  },
  {
   "cell_type": "code",
   "execution_count": 3,
   "metadata": {},
   "outputs": [],
   "source": [
    "def get_movies(method, new_feats, n_features, combinations, combination):\n",
    "    features = combinations[combination-1]\n",
    "    if method == 'tfid':\n",
    "        content = dataset_tfid\n",
    "    if method == 'w2v':\n",
    "        content = dataset_word2vec\n",
    "        \n",
    "    if new_feats is  None:\n",
    "        \n",
    "            df_movies, new_feats = content(features, op='sum', n_features=n_features, n_words=n_features)\n",
    "            \n",
    "    else:\n",
    "        df_movies, new_feats = content(features, op='sum', n_features=n_features, new_feats=new_feats,n_words=n_features)\n",
    "    return df_movies, new_feats\n",
    "        \n",
    "def get_rec(src_folder,name,  n_features, combination, model, nsga_iteractions, src_file=None, extra=''):\n",
    "    data = {}\n",
    "    if src_file:\n",
    "        experiments_src = src_file\n",
    "    else:\n",
    "        experiments_src = src_folder + name + '-'+str(n_features) + '-'+str(combination) + '-' + model + '-'+ str(nsga_iteractions) + extra + '.txt'\n",
    "    #experiments_src = './app/recomendacoes/cf-recomendacoes.txt'\n",
    "    with open(experiments_src) as json_file:\n",
    "        data = json.load(json_file)\n",
    "        return data\n",
    "df_ratings = pd.read_table('./app/datasets/ml-1m/ratings.dat', delimiter='::', names=['userId', 'movieId', 'rating', 'timestamp'], engine='python')\n"
   ]
  },
  {
   "cell_type": "code",
   "execution_count": 4,
   "metadata": {},
   "outputs": [],
   "source": [
    "def get_results(src_folder, name, nsga_iteractions, model, n_features, combination, src_file=None, extra='', index_src='./app/datasets/index.txt'):\n",
    "    recs = get_rec(src_folder, name, n_features, combination, model, nsga_iteractions, src_file, extra)\n",
    "    results = pd.DataFrame([], columns=['size_train','size_test','precision', 'recall', 'diversity','novelty'])\n",
    "    all_feats = ['genres', 'rating', 'runtimes', 'year']\n",
    "    combinations = []\n",
    "    for i in range(5):\n",
    "        for c in itertools.combinations(all_feats,i):\n",
    "            combinations.append(list(c))\n",
    "    if 'None' in recs.keys():\n",
    "        del recs['None']\n",
    "    new_feats_src = './app/recomendacoes/experiments/moea-rs/feats/' + str(name) + '-' + str(n_features) + '.csv'\n",
    "    try:\n",
    "        #self.new_feats = np.genfromtxt(new_feats_src, delimiter=',')\n",
    "        new_feats = pd.read_csv(new_feats_src, sep=',',header=None).values\n",
    "    except IOError:\n",
    "        new_feats = None\n",
    "    df_movies, new_feats = get_movies(name, new_feats, n_features, combinations, combination)\n",
    "    np.savetxt(new_feats_src, new_feats, delimiter=\",\")\n",
    "    index = {}\n",
    "    with open(index_src) as json_file:\n",
    "        index = json.load(json_file)\n",
    "    del index['last_user']\n",
    "\n",
    "    for user in recs.keys():\n",
    "        rec = evaluate(int(user), df_movies, df_ratings, index, recs)\n",
    "        #print(rec)\n",
    "        results = results.append(rec, ignore_index=True)\n",
    "\n",
    "    results.index = list(recs.keys())\n",
    "    #print('./app/recomendacoes/experiments/results/'+ method + '-'+ str(n_features) + '-'+str(combination) + '.csv')\n",
    "    #results.to_csv('./app/recomendacoes/experiments/results/'+ method + '-'+ str(n_features) + '-'+str(combination) + '.csv')\n",
    "    return results\n",
    "#results = get_results(n_features, combination)\n",
    "#results = pd.read_csv('./app/recomendacoes/experiments/results/'+ method + '+ str(n_features) + '-' +str(combination) + '.csv', index_col=0)\n"
   ]
  },
  {
   "cell_type": "code",
   "execution_count": 5,
   "metadata": {},
   "outputs": [
    {
     "data": {
      "text/plain": [
       "\"\\nsrc_folder = './app/recomendacoes/experiments/moea-rs/'\\nname = 'w2v'\\nmodel ='ridge'\\nvariations = [('w2v','ridge', 200, 150, 10), ('w2v','ridge', 300, 150, 10), ('w2v','ridge', 400, 150, 10),\\n              ('w2v','ridge', 200, 250, 9), ('w2v','ridge', 300, 250, 9), \\n              ('w2v','gbr', 200, 250, 13), ('w2v','gbr', 300, 250, 13),\\n              ('w2v','ridge', 200, 150, 15), ('w2v','ridge', 300, 150, 15),\\n              ('w2v','ridge', 200, 150, 9), ('w2v','ridge', 300, 150, 9)]\\nfor name, model, nsga_iteractions, n_features, combination in variations:\\n    print('name:', name, 'model:', model, 'nsga_iteractions:', nsga_iteractions, 'n_features:',n_features)\\n    results = get_results(src_folder, name, nsga_iteractions, model, n_features, combination)\\n    print(results.describe().loc[['mean', 'max'], ['precision', 'recall', 'diversity','novelty']])\\n\""
      ]
     },
     "execution_count": 5,
     "metadata": {},
     "output_type": "execute_result"
    }
   ],
   "source": [
    "'''\n",
    "src_folder = './app/recomendacoes/experiments/moea-rs/'\n",
    "name = 'w2v'\n",
    "model ='ridge'\n",
    "variations = [('w2v','ridge', 200, 150, 10), ('w2v','ridge', 300, 150, 10), ('w2v','ridge', 400, 150, 10),\n",
    "              ('w2v','ridge', 200, 250, 9), ('w2v','ridge', 300, 250, 9), \n",
    "              ('w2v','gbr', 200, 250, 13), ('w2v','gbr', 300, 250, 13),\n",
    "              ('w2v','ridge', 200, 150, 15), ('w2v','ridge', 300, 150, 15),\n",
    "              ('w2v','ridge', 200, 150, 9), ('w2v','ridge', 300, 150, 9)]\n",
    "for name, model, nsga_iteractions, n_features, combination in variations:\n",
    "    print('name:', name, 'model:', model, 'nsga_iteractions:', nsga_iteractions, 'n_features:',n_features)\n",
    "    results = get_results(src_folder, name, nsga_iteractions, model, n_features, combination)\n",
    "    print(results.describe().loc[['mean', 'max'], ['precision', 'recall', 'diversity','novelty']])\n",
    "'''"
   ]
  },
  {
   "cell_type": "code",
   "execution_count": 5,
   "metadata": {},
   "outputs": [],
   "source": [
    "src_folder = './app/recomendacoes/'\n",
    "results_rs_moea = get_results(src_folder, 'w2v', 300, 'ridge', 150, 10, extra='')\n",
    "results_cf = get_results(src_folder, 'w2v', 300, 'ridge', 150, 10, extra='',src_file= './app/recomendacoes/cf-recomendacoes.txt')\n",
    "results_cb = get_results(src_folder, 'w2v', 300, 'ridge', 150, 10, extra='',src_file= './app/recomendacoes/cb-recomendacoes.txt')\n",
    "results_cf_moea = get_results(src_folder, 'w2v', 300, 'ridge', 150, 10, extra='',src_file= './app/recomendacoes/cf-moea-recomendacoes.txt')\n"
   ]
  },
  {
   "cell_type": "code",
   "execution_count": 20,
   "metadata": {},
   "outputs": [
    {
     "data": {
      "text/html": [
       "<div>\n",
       "<style scoped>\n",
       "    .dataframe tbody tr th:only-of-type {\n",
       "        vertical-align: middle;\n",
       "    }\n",
       "\n",
       "    .dataframe tbody tr th {\n",
       "        vertical-align: top;\n",
       "    }\n",
       "\n",
       "    .dataframe thead th {\n",
       "        text-align: right;\n",
       "    }\n",
       "</style>\n",
       "<table border=\"1\" class=\"dataframe\">\n",
       "  <thead>\n",
       "    <tr style=\"text-align: right;\">\n",
       "      <th></th>\n",
       "      <th>Tamanho do dataset de treino</th>\n",
       "      <th>Tamanho do dataset de teste</th>\n",
       "      <th>MOEA-RS</th>\n",
       "      <th>CF baseado em itens</th>\n",
       "      <th>CB-Kmeans</th>\n",
       "    </tr>\n",
       "  </thead>\n",
       "  <tbody>\n",
       "    <tr>\n",
       "      <th>count</th>\n",
       "      <td>2932.000000</td>\n",
       "      <td>2932.000000</td>\n",
       "      <td>2932.000000</td>\n",
       "      <td>2932.000000</td>\n",
       "      <td>2932.000000</td>\n",
       "    </tr>\n",
       "    <tr>\n",
       "      <th>mean</th>\n",
       "      <td>200.937244</td>\n",
       "      <td>200.937244</td>\n",
       "      <td>0.878351</td>\n",
       "      <td>0.941110</td>\n",
       "      <td>0.896289</td>\n",
       "    </tr>\n",
       "    <tr>\n",
       "      <th>std</th>\n",
       "      <td>150.762084</td>\n",
       "      <td>150.762084</td>\n",
       "      <td>0.174940</td>\n",
       "      <td>0.081720</td>\n",
       "      <td>0.143191</td>\n",
       "    </tr>\n",
       "    <tr>\n",
       "      <th>min</th>\n",
       "      <td>70.000000</td>\n",
       "      <td>70.000000</td>\n",
       "      <td>0.000000</td>\n",
       "      <td>0.266667</td>\n",
       "      <td>0.000000</td>\n",
       "    </tr>\n",
       "    <tr>\n",
       "      <th>25%</th>\n",
       "      <td>99.000000</td>\n",
       "      <td>99.000000</td>\n",
       "      <td>0.833333</td>\n",
       "      <td>0.933333</td>\n",
       "      <td>0.866667</td>\n",
       "    </tr>\n",
       "    <tr>\n",
       "      <th>50%</th>\n",
       "      <td>147.000000</td>\n",
       "      <td>147.000000</td>\n",
       "      <td>0.916667</td>\n",
       "      <td>1.000000</td>\n",
       "      <td>0.933333</td>\n",
       "    </tr>\n",
       "    <tr>\n",
       "      <th>75%</th>\n",
       "      <td>248.000000</td>\n",
       "      <td>248.000000</td>\n",
       "      <td>1.000000</td>\n",
       "      <td>1.000000</td>\n",
       "      <td>1.000000</td>\n",
       "    </tr>\n",
       "    <tr>\n",
       "      <th>max</th>\n",
       "      <td>1613.000000</td>\n",
       "      <td>1613.000000</td>\n",
       "      <td>1.000000</td>\n",
       "      <td>1.000000</td>\n",
       "      <td>1.000000</td>\n",
       "    </tr>\n",
       "  </tbody>\n",
       "</table>\n",
       "</div>"
      ],
      "text/plain": [
       "       Tamanho do dataset de treino  Tamanho do dataset de teste      MOEA-RS  \\\n",
       "count                   2932.000000                  2932.000000  2932.000000   \n",
       "mean                     200.937244                   200.937244     0.878351   \n",
       "std                      150.762084                   150.762084     0.174940   \n",
       "min                       70.000000                    70.000000     0.000000   \n",
       "25%                       99.000000                    99.000000     0.833333   \n",
       "50%                      147.000000                   147.000000     0.916667   \n",
       "75%                      248.000000                   248.000000     1.000000   \n",
       "max                     1613.000000                  1613.000000     1.000000   \n",
       "\n",
       "       CF baseado em itens    CB-Kmeans  \n",
       "count          2932.000000  2932.000000  \n",
       "mean              0.941110     0.896289  \n",
       "std               0.081720     0.143191  \n",
       "min               0.266667     0.000000  \n",
       "25%               0.933333     0.866667  \n",
       "50%               1.000000     0.933333  \n",
       "75%               1.000000     1.000000  \n",
       "max               1.000000     1.000000  "
      ]
     },
     "execution_count": 20,
     "metadata": {},
     "output_type": "execute_result"
    }
   ],
   "source": [
    "precisions = pd.DataFrame(index=results_rs_moea.index)\n",
    "precisions['Tamanho do dataset de treino'] = results_rs_moea.size_train\n",
    "precisions['Tamanho do dataset de teste'] = results_rs_moea.size_train\n",
    "precisions['MOEA-RS'] = results_rs_moea.precision\n",
    "precisions['CF baseado em itens'] = results_cf.precision\n",
    "precisions['CB-Kmeans'] = results_cb.precision\n",
    "#precisions['cf_moea'] = results_cf_moea.precision\n",
    "#precisions.boxplot(figsize=(6,6))\n",
    "#group = precisions.groupby(by='Tamanho do dataset de treino').mean()\n",
    "#plt.plot(group.index, group['CF baseado em itens'])\n",
    "precisions.describe()"
   ]
  },
  {
   "cell_type": "code",
   "execution_count": 7,
   "metadata": {},
   "outputs": [
    {
     "data": {
      "text/plain": [
       "<matplotlib.axes._subplots.AxesSubplot at 0x7f1e5017c3c8>"
      ]
     },
     "execution_count": 7,
     "metadata": {},
     "output_type": "execute_result"
    },
    {
     "data": {
      "image/png": "[encoded data removed]",
      "text/plain": [
       "<Figure size 432x432 with 1 Axes>"
      ]
     },
     "metadata": {
      "needs_background": "light"
     },
     "output_type": "display_data"
    }
   ],
   "source": [
    "recalls = pd.DataFrame(index=results_rs_moea.index)\n",
    "recalls['MOEA-RS'] = results_rs_moea.recall\n",
    "recalls['CF baseado em itens'] = results_cf.recall\n",
    "recalls['CB-Kmeans'] = results_cb.recall\n",
    "#precisions['cf_moea'] = results_cf_moea.precision\n",
    "recalls.boxplot(figsize=(6,6))"
   ]
  },
  {
   "cell_type": "code",
   "execution_count": 8,
   "metadata": {},
   "outputs": [
    {
     "name": "stdout",
     "output_type": "stream",
     "text": [
      "4.3315143246930425\n",
      "0.23874488403819918\n",
      "1.9099590723055935\n"
     ]
    }
   ],
   "source": [
    "desvio = (precisions['MOEA-RS'].mean()-2.5*precisions['MOEA-RS'].std())\n",
    "print(((precisions['MOEA-RS'] <0.5).sum()/precisions.shape[0])*100)\n",
    "desvio = (precisions['CF baseado em itens'].mean()-2.5*precisions['CF baseado em itens'].std())\n",
    "print(((precisions['CF baseado em itens'] < 0.5).sum()/precisions.shape[0])*100)\n",
    "desvio = (precisions['CB-Kmeans'].mean()-2.5*precisions['CB-Kmeans'].std())\n",
    "print(((precisions['CB-Kmeans'] < 0.5).sum()/precisions.shape[0])*100)"
   ]
  },
  {
   "cell_type": "code",
   "execution_count": 26,
   "metadata": {},
   "outputs": [
    {
     "data": {
      "text/plain": [
       "<matplotlib.axes._subplots.AxesSubplot at 0x7f25ce21f828>"
      ]
     },
     "execution_count": 26,
     "metadata": {},
     "output_type": "execute_result"
    },
    {
     "data": {
      "image/png": "[encoded data removed]",
      "text/plain": [
       "<Figure size 432x288 with 1 Axes>"
      ]
     },
     "metadata": {
      "needs_background": "light"
     },
     "output_type": "display_data"
    }
   ],
   "source": [
    "results1.boxplot('precision')"
   ]
  },
  {
   "cell_type": "code",
   "execution_count": 23,
   "metadata": {},
   "outputs": [
    {
     "data": {
      "text/html": [
       "<div>\n",
       "<style scoped>\n",
       "    .dataframe tbody tr th:only-of-type {\n",
       "        vertical-align: middle;\n",
       "    }\n",
       "\n",
       "    .dataframe tbody tr th {\n",
       "        vertical-align: top;\n",
       "    }\n",
       "\n",
       "    .dataframe thead th {\n",
       "        text-align: right;\n",
       "    }\n",
       "</style>\n",
       "<table border=\"1\" class=\"dataframe\">\n",
       "  <thead>\n",
       "    <tr style=\"text-align: right;\">\n",
       "      <th></th>\n",
       "      <th>size_train</th>\n",
       "      <th>size_test</th>\n",
       "      <th>precision</th>\n",
       "      <th>recall</th>\n",
       "      <th>diversity</th>\n",
       "      <th>novelty</th>\n",
       "      <th>size_pred</th>\n",
       "    </tr>\n",
       "  </thead>\n",
       "  <tbody>\n",
       "    <tr>\n",
       "      <th>count</th>\n",
       "      <td>127.000000</td>\n",
       "      <td>127.000000</td>\n",
       "      <td>127.000000</td>\n",
       "      <td>127.000000</td>\n",
       "      <td>127.000000</td>\n",
       "      <td>127.000000</td>\n",
       "      <td>127.000000</td>\n",
       "    </tr>\n",
       "    <tr>\n",
       "      <th>mean</th>\n",
       "      <td>280.905512</td>\n",
       "      <td>121.062992</td>\n",
       "      <td>0.321761</td>\n",
       "      <td>0.086100</td>\n",
       "      <td>0.091705</td>\n",
       "      <td>0.066094</td>\n",
       "      <td>11.968504</td>\n",
       "    </tr>\n",
       "    <tr>\n",
       "      <th>std</th>\n",
       "      <td>191.175123</td>\n",
       "      <td>81.929388</td>\n",
       "      <td>0.099286</td>\n",
       "      <td>0.094248</td>\n",
       "      <td>0.003352</td>\n",
       "      <td>0.062680</td>\n",
       "      <td>0.175346</td>\n",
       "    </tr>\n",
       "    <tr>\n",
       "      <th>min</th>\n",
       "      <td>72.000000</td>\n",
       "      <td>32.000000</td>\n",
       "      <td>0.000000</td>\n",
       "      <td>0.000000</td>\n",
       "      <td>0.090909</td>\n",
       "      <td>0.000007</td>\n",
       "      <td>11.000000</td>\n",
       "    </tr>\n",
       "    <tr>\n",
       "      <th>25%</th>\n",
       "      <td>128.000000</td>\n",
       "      <td>55.000000</td>\n",
       "      <td>0.250000</td>\n",
       "      <td>0.031625</td>\n",
       "      <td>0.090910</td>\n",
       "      <td>0.004884</td>\n",
       "      <td>12.000000</td>\n",
       "    </tr>\n",
       "    <tr>\n",
       "      <th>50%</th>\n",
       "      <td>250.000000</td>\n",
       "      <td>108.000000</td>\n",
       "      <td>0.333333</td>\n",
       "      <td>0.054945</td>\n",
       "      <td>0.090914</td>\n",
       "      <td>0.037238</td>\n",
       "      <td>12.000000</td>\n",
       "    </tr>\n",
       "    <tr>\n",
       "      <th>75%</th>\n",
       "      <td>354.500000</td>\n",
       "      <td>153.000000</td>\n",
       "      <td>0.416667</td>\n",
       "      <td>0.113961</td>\n",
       "      <td>0.090927</td>\n",
       "      <td>0.142388</td>\n",
       "      <td>12.000000</td>\n",
       "    </tr>\n",
       "    <tr>\n",
       "      <th>max</th>\n",
       "      <td>1113.000000</td>\n",
       "      <td>478.000000</td>\n",
       "      <td>0.454545</td>\n",
       "      <td>0.750000</td>\n",
       "      <td>0.114645</td>\n",
       "      <td>0.143058</td>\n",
       "      <td>12.000000</td>\n",
       "    </tr>\n",
       "  </tbody>\n",
       "</table>\n",
       "</div>"
      ],
      "text/plain": [
       "        size_train   size_test   precision      recall   diversity  \\\n",
       "count   127.000000  127.000000  127.000000  127.000000  127.000000   \n",
       "mean    280.905512  121.062992    0.321761    0.086100    0.091705   \n",
       "std     191.175123   81.929388    0.099286    0.094248    0.003352   \n",
       "min      72.000000   32.000000    0.000000    0.000000    0.090909   \n",
       "25%     128.000000   55.000000    0.250000    0.031625    0.090910   \n",
       "50%     250.000000  108.000000    0.333333    0.054945    0.090914   \n",
       "75%     354.500000  153.000000    0.416667    0.113961    0.090927   \n",
       "max    1113.000000  478.000000    0.454545    0.750000    0.114645   \n",
       "\n",
       "          novelty   size_pred  \n",
       "count  127.000000  127.000000  \n",
       "mean     0.066094   11.968504  \n",
       "std      0.062680    0.175346  \n",
       "min      0.000007   11.000000  \n",
       "25%      0.004884   12.000000  \n",
       "50%      0.037238   12.000000  \n",
       "75%      0.142388   12.000000  \n",
       "max      0.143058   12.000000  "
      ]
     },
     "execution_count": 23,
     "metadata": {},
     "output_type": "execute_result"
    }
   ],
   "source": [
    "results_rs_moea[results_rs_moea['precision'] < 0.5].describe()\n",
    "#results_cf[results_cf['precision'] < 0.5].describe()\n",
    "#results_cb[results_cb['precision'] < 0.5].describe()"
   ]
  },
  {
   "cell_type": "code",
   "execution_count": 23,
   "metadata": {},
   "outputs": [
    {
     "name": "stdout",
     "output_type": "stream",
     "text": [
      "      precision    recall  diversity   novelty\n",
      "mean   0.941084  0.274845   0.072433  0.062385\n",
      "max    1.000000  1.000000   0.097844  0.143167\n"
     ]
    }
   ],
   "source": [
    "results2 = get_results(src_folder, 'w2v', 300, 'ridge', 150, 10, './app/recomendacoes/cf-recomendacoes.txt')\n",
    "print(results2.describe().loc[['mean', 'max'], ['precision', 'recall', 'diversity','novelty']])"
   ]
  },
  {
   "cell_type": "code",
   "execution_count": 24,
   "metadata": {},
   "outputs": [
    {
     "data": {
      "text/plain": [
       "<matplotlib.axes._subplots.AxesSubplot at 0x7f25ce608e48>"
      ]
     },
     "execution_count": 24,
     "metadata": {},
     "output_type": "execute_result"
    },
    {
     "data": {
      "image/png": "[encoded data removed]",
      "text/plain": [
       "<Figure size 432x288 with 1 Axes>"
      ]
     },
     "metadata": {
      "needs_background": "light"
     },
     "output_type": "display_data"
    }
   ],
   "source": [
    "results2.boxplot('precision')"
   ]
  },
  {
   "cell_type": "code",
   "execution_count": 47,
   "metadata": {},
   "outputs": [
    {
     "data": {
      "text/html": [
       "<div>\n",
       "<style scoped>\n",
       "    .dataframe tbody tr th:only-of-type {\n",
       "        vertical-align: middle;\n",
       "    }\n",
       "\n",
       "    .dataframe tbody tr th {\n",
       "        vertical-align: top;\n",
       "    }\n",
       "\n",
       "    .dataframe thead th {\n",
       "        text-align: right;\n",
       "    }\n",
       "</style>\n",
       "<table border=\"1\" class=\"dataframe\">\n",
       "  <thead>\n",
       "    <tr style=\"text-align: right;\">\n",
       "      <th></th>\n",
       "      <th>size_train</th>\n",
       "      <th>size_test</th>\n",
       "      <th>precision</th>\n",
       "      <th>recall</th>\n",
       "      <th>diversity</th>\n",
       "      <th>novelty</th>\n",
       "      <th>size_pred</th>\n",
       "    </tr>\n",
       "  </thead>\n",
       "  <tbody>\n",
       "    <tr>\n",
       "      <th>1449</th>\n",
       "      <td>868.0</td>\n",
       "      <td>372.0</td>\n",
       "      <td>0.363636</td>\n",
       "      <td>0.017778</td>\n",
       "      <td>0.100020</td>\n",
       "      <td>0.142515</td>\n",
       "      <td>11.0</td>\n",
       "    </tr>\n",
       "    <tr>\n",
       "      <th>5492</th>\n",
       "      <td>266.0</td>\n",
       "      <td>114.0</td>\n",
       "      <td>0.333333</td>\n",
       "      <td>0.058824</td>\n",
       "      <td>0.090911</td>\n",
       "      <td>0.142841</td>\n",
       "      <td>12.0</td>\n",
       "    </tr>\n",
       "    <tr>\n",
       "      <th>1335</th>\n",
       "      <td>214.0</td>\n",
       "      <td>93.0</td>\n",
       "      <td>0.333333</td>\n",
       "      <td>0.064516</td>\n",
       "      <td>0.090909</td>\n",
       "      <td>0.000602</td>\n",
       "      <td>12.0</td>\n",
       "    </tr>\n",
       "    <tr>\n",
       "      <th>3620</th>\n",
       "      <td>301.0</td>\n",
       "      <td>130.0</td>\n",
       "      <td>0.333333</td>\n",
       "      <td>0.044944</td>\n",
       "      <td>0.090923</td>\n",
       "      <td>0.068741</td>\n",
       "      <td>12.0</td>\n",
       "    </tr>\n",
       "    <tr>\n",
       "      <th>2611</th>\n",
       "      <td>298.0</td>\n",
       "      <td>128.0</td>\n",
       "      <td>0.333333</td>\n",
       "      <td>0.041237</td>\n",
       "      <td>0.090911</td>\n",
       "      <td>0.142833</td>\n",
       "      <td>12.0</td>\n",
       "    </tr>\n",
       "    <tr>\n",
       "      <th>...</th>\n",
       "      <td>...</td>\n",
       "      <td>...</td>\n",
       "      <td>...</td>\n",
       "      <td>...</td>\n",
       "      <td>...</td>\n",
       "      <td>...</td>\n",
       "      <td>...</td>\n",
       "    </tr>\n",
       "    <tr>\n",
       "      <th>1793</th>\n",
       "      <td>200.0</td>\n",
       "      <td>87.0</td>\n",
       "      <td>0.083333</td>\n",
       "      <td>0.014925</td>\n",
       "      <td>0.090964</td>\n",
       "      <td>0.141260</td>\n",
       "      <td>12.0</td>\n",
       "    </tr>\n",
       "    <tr>\n",
       "      <th>5026</th>\n",
       "      <td>610.0</td>\n",
       "      <td>262.0</td>\n",
       "      <td>0.083333</td>\n",
       "      <td>0.006757</td>\n",
       "      <td>0.090927</td>\n",
       "      <td>0.142135</td>\n",
       "      <td>12.0</td>\n",
       "    </tr>\n",
       "    <tr>\n",
       "      <th>163</th>\n",
       "      <td>359.0</td>\n",
       "      <td>155.0</td>\n",
       "      <td>0.083333</td>\n",
       "      <td>0.018868</td>\n",
       "      <td>0.093118</td>\n",
       "      <td>0.136979</td>\n",
       "      <td>12.0</td>\n",
       "    </tr>\n",
       "    <tr>\n",
       "      <th>1794</th>\n",
       "      <td>317.0</td>\n",
       "      <td>136.0</td>\n",
       "      <td>0.083333</td>\n",
       "      <td>0.017544</td>\n",
       "      <td>0.090912</td>\n",
       "      <td>0.013173</td>\n",
       "      <td>12.0</td>\n",
       "    </tr>\n",
       "    <tr>\n",
       "      <th>1721</th>\n",
       "      <td>80.0</td>\n",
       "      <td>35.0</td>\n",
       "      <td>0.000000</td>\n",
       "      <td>0.000000</td>\n",
       "      <td>0.090910</td>\n",
       "      <td>0.142641</td>\n",
       "      <td>12.0</td>\n",
       "    </tr>\n",
       "  </tbody>\n",
       "</table>\n",
       "<p>79 rows × 7 columns</p>\n",
       "</div>"
      ],
      "text/plain": [
       "      size_train  size_test  precision    recall  diversity   novelty  \\\n",
       "1449       868.0      372.0   0.363636  0.017778   0.100020  0.142515   \n",
       "5492       266.0      114.0   0.333333  0.058824   0.090911  0.142841   \n",
       "1335       214.0       93.0   0.333333  0.064516   0.090909  0.000602   \n",
       "3620       301.0      130.0   0.333333  0.044944   0.090923  0.068741   \n",
       "2611       298.0      128.0   0.333333  0.041237   0.090911  0.142833   \n",
       "...          ...        ...        ...       ...        ...       ...   \n",
       "1793       200.0       87.0   0.083333  0.014925   0.090964  0.141260   \n",
       "5026       610.0      262.0   0.083333  0.006757   0.090927  0.142135   \n",
       "163        359.0      155.0   0.083333  0.018868   0.093118  0.136979   \n",
       "1794       317.0      136.0   0.083333  0.017544   0.090912  0.013173   \n",
       "1721        80.0       35.0   0.000000  0.000000   0.090910  0.142641   \n",
       "\n",
       "      size_pred  \n",
       "1449       11.0  \n",
       "5492       12.0  \n",
       "1335       12.0  \n",
       "3620       12.0  \n",
       "2611       12.0  \n",
       "...         ...  \n",
       "1793       12.0  \n",
       "5026       12.0  \n",
       "163        12.0  \n",
       "1794       12.0  \n",
       "1721       12.0  \n",
       "\n",
       "[79 rows x 7 columns]"
      ]
     },
     "execution_count": 47,
     "metadata": {},
     "output_type": "execute_result"
    }
   ],
   "source": [
    "results1[results1.precision < 0.4].sort_values('precision', ascending=False)"
   ]
  },
  {
   "cell_type": "code",
   "execution_count": 34,
   "metadata": {},
   "outputs": [
    {
     "data": {
      "text/plain": [
       "7"
      ]
     },
     "execution_count": 34,
     "metadata": {},
     "output_type": "execute_result"
    }
   ],
   "source": [
    "(results2.precision < 0.5).sum()"
   ]
  },
  {
   "cell_type": "code",
   "execution_count": 25,
   "metadata": {},
   "outputs": [],
   "source": [
    "experiments_src = src_folder + 'w2v' + '-'+ '150' + '-' + '10' + '-' + 'ridge' + '-'+ str(300) + '.txt'\n",
    "with open(experiments_src) as json_file:\n",
    "        data = json.load(json_file)\n"
   ]
  },
  {
   "cell_type": "code",
   "execution_count": 35,
   "metadata": {},
   "outputs": [
    {
     "name": "stdout",
     "output_type": "stream",
     "text": [
      "3824\n",
      "2153\n"
     ]
    }
   ],
   "source": [
    "for key in data.keys():\n",
    "    if len(data[key]) == 1:\n",
    "        print(key)"
   ]
  },
  {
   "cell_type": "code",
   "execution_count": null,
   "metadata": {},
   "outputs": [],
   "source": []
  }
 ],
 "metadata": {
  "kernelspec": {
   "display_name": "Python 3",
   "language": "python",
   "name": "python3"
  },
  "language_info": {
   "codemirror_mode": {
    "name": "ipython",
    "version": 3
   },
   "file_extension": ".py",
   "mimetype": "text/x-python",
   "name": "python",
   "nbconvert_exporter": "python",
   "pygments_lexer": "ipython3",
   "version": "3.6.9"
  }
 },
 "nbformat": 4,
 "nbformat_minor": 2
}
