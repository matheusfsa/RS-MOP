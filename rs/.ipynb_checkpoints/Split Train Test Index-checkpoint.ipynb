{
 "cells": [
  {
   "cell_type": "code",
   "execution_count": 1,
   "metadata": {},
   "outputs": [],
   "source": [
    "import pandas as pd\n",
    "import json\n",
    "from sklearn.model_selection import train_test_split"
   ]
  },
  {
   "cell_type": "code",
   "execution_count": 2,
   "metadata": {},
   "outputs": [],
   "source": [
    "#df_ratings = pd.read_csv('./app/datasets/ml-1m/ratings.csv')\n",
    "df_ratings = pd.read_table('./app/datasets/ml-1m/ratings.dat', delimiter='::', names=['userId', 'movieId', 'rating', 'timestamp'], engine='python')\n",
    "#df_ratings = df_ratings[df_ratings['movieId'] in df_movies.index.values]\n",
    "counts = df_ratings['userId'].value_counts() \n",
    "users = counts[counts>=100].index.values"
   ]
  },
  {
   "cell_type": "code",
   "execution_count": 3,
   "metadata": {},
   "outputs": [
    {
     "name": "stderr",
     "output_type": "stream",
     "text": [
      "/home/matheus/eclipse-workspace/RS-MOP/rs/venv/lib/python3.6/site-packages/ipykernel_launcher.py:1: ParserWarning: Falling back to the 'python' engine because the 'c' engine does not support regex separators (separators > 1 char and different from '\\s+' are interpreted as regex); you can avoid this warning by specifying engine='python'.\n",
      "  \"\"\"Entry point for launching an IPython kernel.\n"
     ]
    }
   ],
   "source": [
    "df_ratings_1m = pd.read_table('./app/datasets/ml-1m/ratings.dat', delimiter='::', names=['userId', 'movieId', 'rating', 'timestamp'])\n",
    "df_movies = pd.read_csv('./app/datasets/movies_imdb.csv')\n",
    "df_movies = df_movies.dropna(subset=['plots', 'genres', 'directors', 'rating', 'runtimes', 'title', 'year'])\n",
    "df_movies = df_movies.loc[:, ['movieId', 'plots', 'genres', 'directors', 'rating', 'runtimes', 'title', 'year']]\n",
    "df_ratings_1m = df_ratings_1m[df_ratings_1m['movieId'].isin(df_movies['movieId'])]\n",
    "df_ratings = df_ratings_1m"
   ]
  },
  {
   "cell_type": "code",
   "execution_count": 4,
   "metadata": {},
   "outputs": [
    {
     "data": {
      "text/plain": [
       "array([5661, 5886, 4521, 5086, 4258, 5102, 1912, 4006, 1063,    5, 5047,\n",
       "       5995, 4354, 4451, 6013, 4512, 1879,  635, 3435, 3432, 3929, 1193,\n",
       "       5726, 5059, 3821,  451, 5757, 1678, 1096, 3265, 3812, 3067, 1463,\n",
       "       5473, 5777, 3230,  237, 3340, 2239, 3578, 3691, 5109, 3754, 4285,\n",
       "       3058, 1121, 1716, 3476, 2974, 1109])"
      ]
     },
     "execution_count": 4,
     "metadata": {},
     "output_type": "execute_result"
    }
   ],
   "source": [
    "counts = df_ratings['userId'].value_counts() \n",
    "users = counts[counts>=100].index\n",
    "users = users.values\n",
    "import numpy as np\n",
    "users = np.random.choice(users, 50, replace=False)\n",
    "users"
   ]
  },
  {
   "cell_type": "code",
   "execution_count": 5,
   "metadata": {},
   "outputs": [],
   "source": [
    "df_ratings = df_ratings[df_ratings['userId'].isin(users)]"
   ]
  },
  {
   "cell_type": "code",
   "execution_count": 6,
   "metadata": {},
   "outputs": [],
   "source": [
    "data = {}\n",
    "for user in users:\n",
    "    df_ratings_u = df_ratings[df_ratings['userId']==user]\n",
    "    df_train, df_test = train_test_split(df_ratings_u, test_size=0.3)\n",
    "    user_index = {}\n",
    "    user_index['train'] = df_train.movieId.values.tolist()\n",
    "    user_index['test'] = df_test.movieId.values.tolist()\n",
    "    data[str(user)] = user_index\n",
    "with open('./app/datasets/index_sample.txt', 'w') as outfile:\n",
    "    json.dump(data, outfile)"
   ]
  },
  {
   "cell_type": "code",
   "execution_count": 7,
   "metadata": {},
   "outputs": [
    {
     "data": {
      "text/plain": [
       "50"
      ]
     },
     "execution_count": 7,
     "metadata": {},
     "output_type": "execute_result"
    }
   ],
   "source": [
    "len(list(data.keys()))"
   ]
  },
  {
   "cell_type": "code",
   "execution_count": null,
   "metadata": {},
   "outputs": [],
   "source": []
  }
 ],
 "metadata": {
  "kernelspec": {
   "display_name": "Python 3",
   "language": "python",
   "name": "python3"
  },
  "language_info": {
   "codemirror_mode": {
    "name": "ipython",
    "version": 3
   },
   "file_extension": ".py",
   "mimetype": "text/x-python",
   "name": "python",
   "nbconvert_exporter": "python",
   "pygments_lexer": "ipython3",
   "version": "3.6.9"
  }
 },
 "nbformat": 4,
 "nbformat_minor": 2
}
