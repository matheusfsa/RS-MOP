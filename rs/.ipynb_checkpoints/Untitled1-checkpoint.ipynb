{
 "cells": [
  {
   "cell_type": "code",
   "execution_count": 1,
   "metadata": {},
   "outputs": [],
   "source": [
    "import pandas as pd\n",
    "import json\n",
    "from sklearn.model_selection import train_test_split"
   ]
  },
  {
   "cell_type": "code",
   "execution_count": 2,
   "metadata": {},
   "outputs": [],
   "source": [
    "df_ratings = pd.read_csv('./app/datasets/ml-20m/ratings.csv')\n",
    "#df_ratings = df_ratings[df_ratings['movieId'] in df_movies.index.values]\n",
    "counts = df_ratings['userId'].value_counts() \n",
    "users = counts[counts>=100].index.values"
   ]
  },
  {
   "cell_type": "code",
   "execution_count": 8,
   "metadata": {},
   "outputs": [
    {
     "name": "stderr",
     "output_type": "stream",
     "text": [
      "/home/matheus/eclipse-workspace/RS-MOP/rs/venv/lib/python3.6/site-packages/ipykernel_launcher.py:1: ParserWarning: Falling back to the 'python' engine because the 'c' engine does not support regex separators (separators > 1 char and different from '\\s+' are interpreted as regex); you can avoid this warning by specifying engine='python'.\n",
      "  \"\"\"Entry point for launching an IPython kernel.\n"
     ]
    }
   ],
   "source": [
    "df_ratings_1m = pd.read_table('./app/datasets/ml-1m/ratings.dat', delimiter='::', names=['userId', 'movieId', 'rating', 'timestamp'])\n",
    "df_movies = pd.read_csv('./app/datasets/movies_imdb.csv')\n",
    "df_movies = df_movies.dropna(subset=['plots', 'genres', 'directors', 'rating', 'runtimes', 'title', 'year'])\n",
    "df_movies = df_movies.loc[:, ['movieId', 'plots', 'genres', 'directors', 'rating', 'runtimes', 'title', 'year']]\n",
    "df_ratings_1m = df_ratings_1m[df_ratings_1m['movieId'].isin(df_movies['movieId'])]\n",
    "df_ratings = df_ratings_1m"
   ]
  },
  {
   "cell_type": "code",
   "execution_count": 10,
   "metadata": {},
   "outputs": [],
   "source": [
    "counts = df_ratings['userId'].value_counts() \n",
    "users = counts[counts>=100].index.values"
   ]
  },
  {
   "cell_type": "code",
   "execution_count": 12,
   "metadata": {},
   "outputs": [],
   "source": [
    "data = {}\n",
    "for user in users:\n",
    "    df_ratings_u = df_ratings[df_ratings['userId']==user]\n",
    "    df_train, df_test = train_test_split(df_ratings_u, test_size=0.3)\n",
    "    user_index = {}\n",
    "    user_index['train'] = df_train.movieId.values.tolist()\n",
    "    user_index['test'] = df_test.movieId.values.tolist()\n",
    "    data[str(user)] = user_index\n",
    "with open('./app/datasets/index.txt', 'w') as outfile:\n",
    "    json.dump(data, outfile)"
   ]
  },
  {
   "cell_type": "code",
   "execution_count": 13,
   "metadata": {},
   "outputs": [],
   "source": []
  },
  {
   "cell_type": "code",
   "execution_count": 4,
   "metadata": {},
   "outputs": [],
   "source": [
    "with open('./app/datasets/index.txt') as json_file:\n",
    "    data = json.load(json_file)\n",
    "    list(data.keys())"
   ]
  },
  {
   "cell_type": "code",
   "execution_count": 7,
   "metadata": {},
   "outputs": [
    {
     "data": {
      "text/plain": [
       "52596"
      ]
     },
     "execution_count": 7,
     "metadata": {},
     "output_type": "execute_result"
    }
   ],
   "source": [
    "len(list(data.keys()))"
   ]
  },
  {
   "cell_type": "code",
   "execution_count": null,
   "metadata": {},
   "outputs": [],
   "source": []
  }
 ],
 "metadata": {
  "kernelspec": {
   "display_name": "Python 3",
   "language": "python",
   "name": "python3"
  },
  "language_info": {
   "codemirror_mode": {
    "name": "ipython",
    "version": 3
   },
   "file_extension": ".py",
   "mimetype": "text/x-python",
   "name": "python",
   "nbconvert_exporter": "python",
   "pygments_lexer": "ipython3",
   "version": "3.6.9"
  }
 },
 "nbformat": 4,
 "nbformat_minor": 2
}
