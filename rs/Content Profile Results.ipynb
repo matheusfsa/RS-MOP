{
 "cells": [
  {
   "cell_type": "code",
   "execution_count": 1,
   "metadata": {},
   "outputs": [],
   "source": [
    "import json\n",
    "import numpy as np\n",
    "import pandas as pd"
   ]
  },
  {
   "cell_type": "code",
   "execution_count": 2,
   "metadata": {},
   "outputs": [],
   "source": [
    "# methods: w2v, tfid\n",
    "# n_features: [15, 200, 250, 300], [500, 1000, 1500, 2000]\n",
    "method = 'w2v'\n",
    "n_features = 150\n",
    "precision_src = 'app/recomendacoes/experiments/content_profile/precision-'+ str(method) + '-' +str(n_features) + '.csv'\n",
    "recall_src = 'app/recomendacoes/experiments/content_profile/recall-'+ str(method) + '-' +str(n_features) + '.csv'\n"
   ]
  },
  {
   "cell_type": "code",
   "execution_count": 5,
   "metadata": {},
   "outputs": [],
   "source": [
    "precision = pd.read_csv(precision_src, index_col=0)\n",
    "recall = pd.read_csv(recall_src, index_col=0)"
   ]
  },
  {
   "cell_type": "code",
   "execution_count": 13,
   "metadata": {},
   "outputs": [
    {
     "name": "stdout",
     "output_type": "stream",
     "text": [
      "n_features: 150\n",
      "ridge      0.914009\n",
      "svr        0.910883\n",
      "elastic    0.909219\n",
      "gbr        0.911472\n",
      "voting     0.912110\n",
      "dtype: float64\n",
      "n_features: 200\n",
      "ridge      0.913395\n",
      "svr        0.911000\n",
      "elastic    0.909153\n",
      "gbr        0.911619\n",
      "voting     0.910594\n",
      "dtype: float64\n",
      "n_features: 250\n",
      "ridge      0.913874\n",
      "svr        0.910969\n",
      "elastic    0.909143\n",
      "gbr        0.912505\n",
      "voting     0.910385\n",
      "dtype: float64\n",
      "n_features: 300\n",
      "ridge      0.913691\n",
      "svr        0.910858\n",
      "elastic    0.909151\n",
      "gbr        0.908746\n",
      "voting     0.910180\n",
      "dtype: float64\n"
     ]
    }
   ],
   "source": [
    "method = 'w2v'\n",
    "for n_features in [150, 200, 250, 300]:\n",
    "    print('n_features:', n_features)\n",
    "    precision_src = 'app/recomendacoes/experiments/content_profile/precision-'+ str(method) + '-' +str(n_features) + '.csv'\n",
    "    precision = pd.read_csv(precision_src, index_col=0)\n",
    "    print(precision.mean())\n",
    "    "
   ]
  },
  {
   "cell_type": "code",
   "execution_count": 11,
   "metadata": {},
   "outputs": [
    {
     "name": "stdout",
     "output_type": "stream",
     "text": [
      "n_features: 500\n",
      "ridge      0.918235\n",
      "svr        0.911519\n",
      "elastic    0.913246\n",
      "gbr        0.918007\n",
      "voting     0.914641\n",
      "dtype: float64\n",
      "n_features: 1000\n",
      "ridge      0.919836\n",
      "svr        0.916511\n",
      "elastic    0.914006\n",
      "gbr        0.920300\n",
      "voting     0.916527\n",
      "dtype: float64\n",
      "n_features: 1500\n",
      "ridge      0.920462\n",
      "svr        0.916363\n",
      "elastic    0.916300\n",
      "gbr        0.917620\n",
      "voting     0.918382\n",
      "dtype: float64\n",
      "n_features: 2000\n",
      "ridge      0.920580\n",
      "svr        0.918020\n",
      "elastic    0.916597\n",
      "gbr        0.920705\n",
      "voting     0.918279\n",
      "dtype: float64\n"
     ]
    }
   ],
   "source": [
    "method = 'tfid'\n",
    "for n_features in [500, 1000, 1500, 2000]:\n",
    "    print('n_features:', n_features)\n",
    "    precision_src = 'app/recomendacoes/experiments/content_profile/precision-'+ str(method) + '-' +str(n_features) + '.csv'\n",
    "    precision = pd.read_csv(precision_src, index_col=0)\n",
    "    print(precision.max())"
   ]
  },
  {
   "cell_type": "code",
   "execution_count": null,
   "metadata": {},
   "outputs": [],
   "source": []
  }
 ],
 "metadata": {
  "kernelspec": {
   "display_name": "Python 3",
   "language": "python",
   "name": "python3"
  },
  "language_info": {
   "codemirror_mode": {
    "name": "ipython",
    "version": 3
   },
   "file_extension": ".py",
   "mimetype": "text/x-python",
   "name": "python",
   "nbconvert_exporter": "python",
   "pygments_lexer": "ipython3",
   "version": "3.6.9"
  }
 },
 "nbformat": 4,
 "nbformat_minor": 2
}
