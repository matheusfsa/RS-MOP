{
 "cells": [
  {
   "cell_type": "code",
   "execution_count": 1,
   "metadata": {},
   "outputs": [],
   "source": [
    "import pandas as pd\n",
    "import numpy as np"
   ]
  },
  {
   "cell_type": "code",
   "execution_count": 2,
   "metadata": {},
   "outputs": [],
   "source": [
    "df_ratings = pd.read_table('./app/datasets/ml-1m/ratings.dat', delimiter='::', names=['userId', 'movieId', 'rating', 'timestamp'], engine='python')"
   ]
  },
  {
   "cell_type": "code",
   "execution_count": 9,
   "metadata": {},
   "outputs": [
    {
     "name": "stdout",
     "output_type": "stream",
     "text": [
      "Index(['cast', 'color', 'directors', 'genres', 'movieId', 'plots', 'producers',\n",
      "       'rating', 'runtimes', 'synopsis', 'title', 'writers', 'year'],\n",
      "      dtype='object')\n"
     ]
    }
   ],
   "source": [
    "df_movies = pd.read_csv('./app/datasets/movies_imdb.csv')\n",
    "print(df_movies.columns)\n",
    "df_movies = df_movies.dropna(subset=['genres', 'cast','directors', 'runtimes', 'title', 'year'])\n",
    "df_movies = df_movies.loc[:, ['movieId', 'genres','cast', 'directors', 'runtimes', 'title', 'year']]"
   ]
  },
  {
   "cell_type": "code",
   "execution_count": 10,
   "metadata": {},
   "outputs": [],
   "source": [
    "df_ratings = df_ratings[df_ratings['movieId'].isin(df_movies['movieId'])]"
   ]
  },
  {
   "cell_type": "code",
   "execution_count": 11,
   "metadata": {},
   "outputs": [],
   "source": [
    "df_ratings = df_ratings[df_ratings['userId'] == 6040]"
   ]
  },
  {
   "cell_type": "code",
   "execution_count": 19,
   "metadata": {},
   "outputs": [
    {
     "ename": "TypeError",
     "evalue": "unhashable type: 'list'",
     "output_type": "error",
     "traceback": [
      "\u001b[0;31m---------------------------------------------------------------------------\u001b[0m",
      "\u001b[0;31mTypeError\u001b[0m                                 Traceback (most recent call last)",
      "\u001b[0;32m<ipython-input-19-a525876eef25>\u001b[0m in \u001b[0;36m<module>\u001b[0;34m\u001b[0m\n\u001b[0;32m----> 1\u001b[0;31m \u001b[0mdf_movies\u001b[0m\u001b[0;34m[\u001b[0m\u001b[0;34m'genres'\u001b[0m\u001b[0;34m]\u001b[0m\u001b[0;34m.\u001b[0m\u001b[0mstr\u001b[0m\u001b[0;34m.\u001b[0m\u001b[0msplit\u001b[0m\u001b[0;34m(\u001b[0m\u001b[0;34m'|'\u001b[0m\u001b[0;34m)\u001b[0m\u001b[0;34m.\u001b[0m\u001b[0munique\u001b[0m\u001b[0;34m(\u001b[0m\u001b[0;34m)\u001b[0m\u001b[0;34m\u001b[0m\u001b[0;34m\u001b[0m\u001b[0m\n\u001b[0m",
      "\u001b[0;32m~/eclipse-workspace/RS-MOP/rs/venv/lib/python3.6/site-packages/pandas/core/series.py\u001b[0m in \u001b[0;36munique\u001b[0;34m(self)\u001b[0m\n\u001b[1;32m   1989\u001b[0m         \u001b[0mCategories\u001b[0m \u001b[0;34m(\u001b[0m\u001b[0;36m3\u001b[0m\u001b[0;34m,\u001b[0m \u001b[0mobject\u001b[0m\u001b[0;34m)\u001b[0m\u001b[0;34m:\u001b[0m \u001b[0;34m[\u001b[0m\u001b[0ma\u001b[0m \u001b[0;34m<\u001b[0m \u001b[0mb\u001b[0m \u001b[0;34m<\u001b[0m \u001b[0mc\u001b[0m\u001b[0;34m]\u001b[0m\u001b[0;34m\u001b[0m\u001b[0;34m\u001b[0m\u001b[0m\n\u001b[1;32m   1990\u001b[0m         \"\"\"\n\u001b[0;32m-> 1991\u001b[0;31m         \u001b[0mresult\u001b[0m \u001b[0;34m=\u001b[0m \u001b[0msuper\u001b[0m\u001b[0;34m(\u001b[0m\u001b[0;34m)\u001b[0m\u001b[0;34m.\u001b[0m\u001b[0munique\u001b[0m\u001b[0;34m(\u001b[0m\u001b[0;34m)\u001b[0m\u001b[0;34m\u001b[0m\u001b[0;34m\u001b[0m\u001b[0m\n\u001b[0m\u001b[1;32m   1992\u001b[0m         \u001b[0;32mreturn\u001b[0m \u001b[0mresult\u001b[0m\u001b[0;34m\u001b[0m\u001b[0;34m\u001b[0m\u001b[0m\n\u001b[1;32m   1993\u001b[0m \u001b[0;34m\u001b[0m\u001b[0m\n",
      "\u001b[0;32m~/eclipse-workspace/RS-MOP/rs/venv/lib/python3.6/site-packages/pandas/core/base.py\u001b[0m in \u001b[0;36munique\u001b[0;34m(self)\u001b[0m\n\u001b[1;32m   1403\u001b[0m             \u001b[0;32mfrom\u001b[0m \u001b[0mpandas\u001b[0m\u001b[0;34m.\u001b[0m\u001b[0mcore\u001b[0m\u001b[0;34m.\u001b[0m\u001b[0malgorithms\u001b[0m \u001b[0;32mimport\u001b[0m \u001b[0munique1d\u001b[0m\u001b[0;34m\u001b[0m\u001b[0;34m\u001b[0m\u001b[0m\n\u001b[1;32m   1404\u001b[0m \u001b[0;34m\u001b[0m\u001b[0m\n\u001b[0;32m-> 1405\u001b[0;31m             \u001b[0mresult\u001b[0m \u001b[0;34m=\u001b[0m \u001b[0munique1d\u001b[0m\u001b[0;34m(\u001b[0m\u001b[0mvalues\u001b[0m\u001b[0;34m)\u001b[0m\u001b[0;34m\u001b[0m\u001b[0;34m\u001b[0m\u001b[0m\n\u001b[0m\u001b[1;32m   1406\u001b[0m \u001b[0;34m\u001b[0m\u001b[0m\n\u001b[1;32m   1407\u001b[0m         \u001b[0;32mreturn\u001b[0m \u001b[0mresult\u001b[0m\u001b[0;34m\u001b[0m\u001b[0;34m\u001b[0m\u001b[0m\n",
      "\u001b[0;32m~/eclipse-workspace/RS-MOP/rs/venv/lib/python3.6/site-packages/pandas/core/algorithms.py\u001b[0m in \u001b[0;36munique\u001b[0;34m(values)\u001b[0m\n\u001b[1;32m    403\u001b[0m \u001b[0;34m\u001b[0m\u001b[0m\n\u001b[1;32m    404\u001b[0m     \u001b[0mtable\u001b[0m \u001b[0;34m=\u001b[0m \u001b[0mhtable\u001b[0m\u001b[0;34m(\u001b[0m\u001b[0mlen\u001b[0m\u001b[0;34m(\u001b[0m\u001b[0mvalues\u001b[0m\u001b[0;34m)\u001b[0m\u001b[0;34m)\u001b[0m\u001b[0;34m\u001b[0m\u001b[0;34m\u001b[0m\u001b[0m\n\u001b[0;32m--> 405\u001b[0;31m     \u001b[0muniques\u001b[0m \u001b[0;34m=\u001b[0m \u001b[0mtable\u001b[0m\u001b[0;34m.\u001b[0m\u001b[0munique\u001b[0m\u001b[0;34m(\u001b[0m\u001b[0mvalues\u001b[0m\u001b[0;34m)\u001b[0m\u001b[0;34m\u001b[0m\u001b[0;34m\u001b[0m\u001b[0m\n\u001b[0m\u001b[1;32m    406\u001b[0m     \u001b[0muniques\u001b[0m \u001b[0;34m=\u001b[0m \u001b[0m_reconstruct_data\u001b[0m\u001b[0;34m(\u001b[0m\u001b[0muniques\u001b[0m\u001b[0;34m,\u001b[0m \u001b[0mdtype\u001b[0m\u001b[0;34m,\u001b[0m \u001b[0moriginal\u001b[0m\u001b[0;34m)\u001b[0m\u001b[0;34m\u001b[0m\u001b[0;34m\u001b[0m\u001b[0m\n\u001b[1;32m    407\u001b[0m     \u001b[0;32mreturn\u001b[0m \u001b[0muniques\u001b[0m\u001b[0;34m\u001b[0m\u001b[0;34m\u001b[0m\u001b[0m\n",
      "\u001b[0;32mpandas/_libs/hashtable_class_helper.pxi\u001b[0m in \u001b[0;36mpandas._libs.hashtable.PyObjectHashTable.unique\u001b[0;34m()\u001b[0m\n",
      "\u001b[0;32mpandas/_libs/hashtable_class_helper.pxi\u001b[0m in \u001b[0;36mpandas._libs.hashtable.PyObjectHashTable._unique\u001b[0;34m()\u001b[0m\n",
      "\u001b[0;31mTypeError\u001b[0m: unhashable type: 'list'"
     ]
    }
   ],
   "source": [
    "df_movies['genres'].str.split('|')"
   ]
  },
  {
   "cell_type": "code",
   "execution_count": 42,
   "metadata": {},
   "outputs": [],
   "source": [
    "def get_weights(df_movies):\n",
    "    def add_in_dict(d, l):\n",
    "        for e in l:\n",
    "            n = d.get(e, 0)\n",
    "            d[e] = n+1\n",
    "\n",
    "    genres = {}\n",
    "    cast = {}\n",
    "    directors = {}\n",
    "    for index, movie in df_movies.iterrows():\n",
    "        movie_genres = movie['genres'].split('|')\n",
    "        add_in_dict(genres, movie_genres)\n",
    "        movie_cast = movie['cast'].split('|')\n",
    "        add_in_dict(cast, movie_cast)\n",
    "        movie_directors = movie['directors'].split('|')\n",
    "        add_in_dict(directors, movie_directors)\n",
    "    genres = pd.Series(genres, name='genres')\n",
    "    cast = pd.Series(cast, name='cast')\n",
    "    directors = pd.Series(directors, name='directors')\n",
    "    years = df_movies['year'].value_counts()\n",
    "    return genres, cast, directors, years"
   ]
  },
  {
   "cell_type": "code",
   "execution_count": 53,
   "metadata": {},
   "outputs": [],
   "source": [
    "import json\n",
    "def split(df_ratings, user):\n",
    "        df_movies = df_ratings[df_ratings['userId'] == user]\n",
    "        df_movies = df_movies.set_index('movieId')\n",
    "        data = {}\n",
    "        with open('./app/datasets/index.txt') as json_file:\n",
    "            data = json.load(json_file)\n",
    "        user_index = data[str(user)]\n",
    "        train = df_movies.loc[user_index['train'], :]\n",
    "        test = df_movies.loc[user_index['test'], :]\n",
    "        return train, test\n",
    "train, test = split(df_ratings, 6040)"
   ]
  },
  {
   "cell_type": "code",
   "execution_count": 54,
   "metadata": {},
   "outputs": [
    {
     "data": {
      "text/html": [
       "<div>\n",
       "<style scoped>\n",
       "    .dataframe tbody tr th:only-of-type {\n",
       "        vertical-align: middle;\n",
       "    }\n",
       "\n",
       "    .dataframe tbody tr th {\n",
       "        vertical-align: top;\n",
       "    }\n",
       "\n",
       "    .dataframe thead th {\n",
       "        text-align: right;\n",
       "    }\n",
       "</style>\n",
       "<table border=\"1\" class=\"dataframe\">\n",
       "  <thead>\n",
       "    <tr style=\"text-align: right;\">\n",
       "      <th></th>\n",
       "      <th>userId</th>\n",
       "      <th>rating</th>\n",
       "      <th>timestamp</th>\n",
       "    </tr>\n",
       "    <tr>\n",
       "      <th>movieId</th>\n",
       "      <th></th>\n",
       "      <th></th>\n",
       "      <th></th>\n",
       "    </tr>\n",
       "  </thead>\n",
       "  <tbody>\n",
       "    <tr>\n",
       "      <th>2391</th>\n",
       "      <td>6040</td>\n",
       "      <td>4</td>\n",
       "      <td>956705112</td>\n",
       "    </tr>\n",
       "    <tr>\n",
       "      <th>246</th>\n",
       "      <td>6040</td>\n",
       "      <td>5</td>\n",
       "      <td>956704613</td>\n",
       "    </tr>\n",
       "    <tr>\n",
       "      <th>2303</th>\n",
       "      <td>6040</td>\n",
       "      <td>5</td>\n",
       "      <td>960971857</td>\n",
       "    </tr>\n",
       "    <tr>\n",
       "      <th>3334</th>\n",
       "      <td>6040</td>\n",
       "      <td>5</td>\n",
       "      <td>960971875</td>\n",
       "    </tr>\n",
       "    <tr>\n",
       "      <th>535</th>\n",
       "      <td>6040</td>\n",
       "      <td>4</td>\n",
       "      <td>964828734</td>\n",
       "    </tr>\n",
       "    <tr>\n",
       "      <th>...</th>\n",
       "      <td>...</td>\n",
       "      <td>...</td>\n",
       "      <td>...</td>\n",
       "    </tr>\n",
       "    <tr>\n",
       "      <th>913</th>\n",
       "      <td>6040</td>\n",
       "      <td>5</td>\n",
       "      <td>956716845</td>\n",
       "    </tr>\n",
       "    <tr>\n",
       "      <th>1300</th>\n",
       "      <td>6040</td>\n",
       "      <td>5</td>\n",
       "      <td>956715421</td>\n",
       "    </tr>\n",
       "    <tr>\n",
       "      <th>2076</th>\n",
       "      <td>6040</td>\n",
       "      <td>5</td>\n",
       "      <td>956715676</td>\n",
       "    </tr>\n",
       "    <tr>\n",
       "      <th>2395</th>\n",
       "      <td>6040</td>\n",
       "      <td>4</td>\n",
       "      <td>960972782</td>\n",
       "    </tr>\n",
       "    <tr>\n",
       "      <th>2068</th>\n",
       "      <td>6040</td>\n",
       "      <td>4</td>\n",
       "      <td>997453982</td>\n",
       "    </tr>\n",
       "  </tbody>\n",
       "</table>\n",
       "<p>235 rows × 3 columns</p>\n",
       "</div>"
      ],
      "text/plain": [
       "         userId  rating  timestamp\n",
       "movieId                           \n",
       "2391       6040       4  956705112\n",
       "246        6040       5  956704613\n",
       "2303       6040       5  960971857\n",
       "3334       6040       5  960971875\n",
       "535        6040       4  964828734\n",
       "...         ...     ...        ...\n",
       "913        6040       5  956716845\n",
       "1300       6040       5  956715421\n",
       "2076       6040       5  956715676\n",
       "2395       6040       4  960972782\n",
       "2068       6040       4  997453982\n",
       "\n",
       "[235 rows x 3 columns]"
      ]
     },
     "execution_count": 54,
     "metadata": {},
     "output_type": "execute_result"
    }
   ],
   "source": [
    "train"
   ]
  },
  {
   "cell_type": "code",
   "execution_count": 43,
   "metadata": {},
   "outputs": [],
   "source": [
    "genres, cast, directors, years = get_weights(df_movies)"
   ]
  },
  {
   "cell_type": "code",
   "execution_count": 55,
   "metadata": {
    "collapsed": true
   },
   "outputs": [
    {
     "data": {
      "text/plain": [
       "['Drama',\n",
       " 'War',\n",
       " 'Biography',\n",
       " 'Music',\n",
       " 'Romance',\n",
       " 'Comedy',\n",
       " 'Musical',\n",
       " 'Action',\n",
       " 'Crime',\n",
       " 'Thriller',\n",
       " 'Mystery',\n",
       " 'Animation',\n",
       " 'Family',\n",
       " 'Fantasy',\n",
       " 'Horror',\n",
       " 'Sci-Fi',\n",
       " 'History',\n",
       " 'Adventure',\n",
       " 'Documentary',\n",
       " 'Sport',\n",
       " 'Western',\n",
       " 'Short',\n",
       " 'Film-Noir']"
      ]
     },
     "execution_count": 55,
     "metadata": {},
     "output_type": "execute_result"
    }
   ],
   "source": [
    "def get_gcdy_preference(train, df_movies):\n",
    "    def add_in_list(d, l):\n",
    "        for e in l:\n",
    "            if e not in d:\n",
    "                d.append(e)\n",
    "            \n",
    "    df = df_movies.loc[train[train.rating>=3].index, :]\n",
    "    genres = []\n",
    "    cast = []\n",
    "    directors = []\n",
    "    for index, movie in df.iterrows():\n",
    "        movie_genres = movie['genres'].split('|')\n",
    "        add_in_list(genres, movie_genres)\n",
    "        movie_cast = movie['cast'].split('|')\n",
    "        add_in_list(cast, movie_cast)\n",
    "        movie_directors = movie['directors'].split('|')\n",
    "        add_in_list(directors, movie_directors)  \n",
    "    return genres, cast, directors, df.year.unique().tolist()\n",
    "\n",
    "g, c, d, y = get_gcdy_preference(train, df_movies)\n",
    "\n",
    "g    "
   ]
  },
  {
   "cell_type": "code",
   "execution_count": 57,
   "metadata": {},
   "outputs": [
    {
     "data": {
      "text/plain": [
       "973"
      ]
     },
     "execution_count": 57,
     "metadata": {},
     "output_type": "execute_result"
    }
   ],
   "source": [
    "def get_wi(lista, preference, all_movies, total, inc):\n",
    "    wi = 0\n",
    "    for valor in lista:\n",
    "        wi += all_movies[valor]/total\n",
    "        if valor in preference:\n",
    "            wi += inc\n",
    "    return wi\n",
    "def get_wa(lista, c, cast, total):\n",
    "    return get_wi(lista, c, cast, total, 0.4)\n",
    "\n",
    "def get_wd(lista, d, directors, total):\n",
    "    return get_wi(lista, d, directors, total, 0.3)\n",
    "\n",
    "def get_wy(lista, y, years, total):\n",
    "    return get_wi(lista, y, years, total, 0.1)\n",
    "        \n",
    "            \n",
    "        "
   ]
  },
  {
   "cell_type": "code",
   "execution_count": null,
   "metadata": {},
   "outputs": [],
   "source": [
    "def get_user_weights(train, test, df_movies):\n",
    "    genres, cast, directors, years = get_weights(df_movies)\n",
    "    g, c, d, y = get_gcdy_preference(train, df_movies)\n",
    "    df_test = df_movies.loc[test.index, :]\n",
    "    weights = {}\n",
    "    for index, movie in df_test.iterrows():\n",
    "        "
   ]
  }
 ],
 "metadata": {
  "kernelspec": {
   "display_name": "Python 3",
   "language": "python",
   "name": "python3"
  },
  "language_info": {
   "codemirror_mode": {
    "name": "ipython",
    "version": 3
   },
   "file_extension": ".py",
   "mimetype": "text/x-python",
   "name": "python",
   "nbconvert_exporter": "python",
   "pygments_lexer": "ipython3",
   "version": "3.6.9"
  }
 },
 "nbformat": 4,
 "nbformat_minor": 2
}
