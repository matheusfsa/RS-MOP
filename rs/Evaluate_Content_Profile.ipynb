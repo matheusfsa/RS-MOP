{
 "cells": [
  {
   "cell_type": "code",
   "execution_count": 35,
   "metadata": {},
   "outputs": [],
   "source": [
    "import json\n",
    "import numpy as np\n",
    "import pandas as pd\n",
    "from app import dataset_word2vec, dataset_tfid\n",
    "from sklearn.metrics import precision_score, recall_score\n",
    "from app.datasets import dataset_ratings_user\n",
    "from sklearn.model_selection import train_test_split\n",
    "from sklearn.linear_model import LassoCV, RidgeCV, BayesianRidge, Ridge, Lasso, ElasticNet, SGDRegressor\n",
    "from sklearn.kernel_ridge import KernelRidge\n",
    "from sklearn.ensemble import AdaBoostRegressor\n",
    "from sklearn.metrics import mean_squared_error, precision_score, recall_score\n",
    "from sklearn.ensemble import GradientBoostingRegressor\n",
    "from sklearn.model_selection import GridSearchCV\n",
    "from sklearn.svm import SVR"
   ]
  },
  {
   "cell_type": "code",
   "execution_count": 36,
   "metadata": {},
   "outputs": [],
   "source": [
    "def evaluate(X, user, index, df_ratings):\n",
    "    df_movies_u = dataset_ratings_user(X,df_ratings=df_ratings, user=user) \n",
    "    #train, test = train_test_split(df_movies_u , test_size=0.2)\n",
    "    train = df_movies_u.loc[index[str(user)]['train'], :]\n",
    "    test = df_movies_u.loc[index[str(user)]['test'], :]\n",
    "    X_train = train.drop(columns=['rating_user','title'])\n",
    "    y_train = train['rating_user']\n",
    "    X_test = test.drop(columns=['rating_user','title'])\n",
    "    y_test = test['rating_user']\n",
    "    df_movies_u = None\n",
    "    return train_predict(X_train, y_train, X_test, y_test)\n",
    "\n",
    "\n",
    "\n",
    "\n",
    "def train_predict(X_train, y_train, X_test, y_test):\n",
    "\n",
    "    precision = {}\n",
    "    recall = {}\n",
    "    y_true = (y_test >= 3) * 1\n",
    "\n",
    "    def get_precision_recall(name, model):\n",
    "        model = model.fit(X_train, y_train)\n",
    "        y_pred = (model.predict(X_test) >= 3)*1\n",
    "        precision[name] = precision_score(y_true, y_pred)\n",
    "        recall[name] = recall_score(y_true, y_pred)\n",
    "    ridge = RidgeCV(cv=5)\n",
    "    get_precision_recall('ridge', GridSearchCV(Ridge(), {'alpha':[1e-3, 1e-2, 1e-1, 1]}))\n",
    "    #get_precision_recall('lasso', GridSearchCV(Lasso(), {'alpha':[1e-3, 1e-2, 1e-1, 1]}))\n",
    "    get_precision_recall('svr', GridSearchCV(SVR(),{'kernel':('linear', 'rbf'), 'C':[1, 10]}))\n",
    "    get_precision_recall('elastic', GridSearchCV(ElasticNet(), {'alpha':[1e-3, 1e-2, 1e-1, 1]}))\n",
    "    #get_precision_recall('sgd', GridSearchCV(SGDRegressor(), {'alpha':[1e-3, 1e-2, 1e-1, 1]}))\n",
    "    #get_precision_recall('ada',AdaBoostRegressor(random_state=0, n_estimators=100))\n",
    "    #get_precision_recall('gbr',GradientBoostingRegressor(n_estimators=100, learning_rate=0.1,max_depth=1, random_state=0, loss='ls'))\n",
    "    return precision, recall\n",
    "\n",
    "\n",
    "def evaluate_method1(X, users, index, df_ratings):\n",
    "    precisions, recalls = [], []\n",
    "    columns = ['ridge', 'lasso', 'elastic', 'svr', 'sgd']\n",
    "    i = 0\n",
    "    for user in users:\n",
    "        precision, recall = evaluate(X, int(user), index, df_ratings)\n",
    "        precisions.append(precision)\n",
    "        recalls.append(recall)\n",
    "        print('i:', i)\n",
    "        i += 1\n",
    "        \n",
    "    df_precisions = pd.DataFrame(precisions, index=users, columns=columns)\n",
    "    df_recalls = pd.DataFrame(recalls, index=users, columns=columns)\n",
    "    return df_precisions, df_recalls"
   ]
  },
  {
   "cell_type": "code",
   "execution_count": 25,
   "metadata": {},
   "outputs": [
    {
     "data": {
      "text/plain": [
       "101"
      ]
     },
     "execution_count": 25,
     "metadata": {},
     "output_type": "execute_result"
    }
   ],
   "source": [
    "index = {}\n",
    "with open('./app/datasets/index_sample.txt') as json_file:\n",
    "    index = json.load(json_file)\n",
    "len(index.keys())\n"
   ]
  },
  {
   "cell_type": "code",
   "execution_count": 3,
   "metadata": {},
   "outputs": [],
   "source": [
    "df_ratings = pd.read_table('./app/datasets/ml-1m/ratings.dat', delimiter='::', names=['userId', 'movieId', 'rating', 'timestamp'], engine='python')"
   ]
  },
  {
   "cell_type": "code",
   "execution_count": 4,
   "metadata": {},
   "outputs": [],
   "source": [
    "new_feats = None"
   ]
  },
  {
   "cell_type": "code",
   "execution_count": 5,
   "metadata": {},
   "outputs": [],
   "source": [
    "df_movies, new_feats = dataset_tfid(['genres', 'rating', 'runtimes', 'year'], op='sum', n_features=200, n_words=2000)"
   ]
  },
  {
   "cell_type": "code",
   "execution_count": 26,
   "metadata": {},
   "outputs": [],
   "source": [
    "del index['last_user']"
   ]
  },
  {
   "cell_type": "code",
   "execution_count": 22,
   "metadata": {},
   "outputs": [],
   "source": [
    "import warnings\n",
    "warnings.filterwarnings('ignore')"
   ]
  },
  {
   "cell_type": "code",
   "execution_count": 37,
   "metadata": {},
   "outputs": [
    {
     "name": "stdout",
     "output_type": "stream",
     "text": [
      "i: 0\n",
      "i: 1\n",
      "i: 2\n",
      "i: 3\n",
      "i: 4\n",
      "i: 5\n",
      "i: 6\n",
      "i: 7\n",
      "i: 8\n",
      "i: 9\n",
      "i: 10\n",
      "i: 11\n",
      "i: 12\n",
      "i: 13\n",
      "i: 14\n",
      "i: 15\n",
      "i: 16\n",
      "i: 17\n",
      "i: 18\n",
      "i: 19\n",
      "i: 20\n",
      "i: 21\n",
      "i: 22\n",
      "i: 23\n",
      "i: 24\n",
      "i: 25\n",
      "i: 26\n",
      "i: 27\n",
      "i: 28\n",
      "i: 29\n",
      "i: 30\n",
      "i: 31\n",
      "i: 32\n",
      "i: 33\n",
      "i: 34\n",
      "i: 35\n",
      "i: 36\n",
      "i: 37\n",
      "i: 38\n",
      "i: 39\n",
      "i: 40\n",
      "i: 41\n",
      "i: 42\n",
      "i: 43\n",
      "i: 44\n",
      "i: 45\n",
      "i: 46\n",
      "i: 47\n",
      "i: 48\n",
      "i: 49\n",
      "i: 50\n",
      "i: 51\n",
      "i: 52\n",
      "i: 53\n",
      "i: 54\n",
      "i: 55\n",
      "i: 56\n",
      "i: 57\n",
      "i: 58\n",
      "i: 59\n",
      "i: 60\n",
      "i: 61\n",
      "i: 62\n",
      "i: 63\n",
      "i: 64\n",
      "i: 65\n",
      "i: 66\n",
      "i: 67\n",
      "i: 68\n",
      "i: 69\n",
      "i: 70\n",
      "i: 71\n",
      "i: 72\n",
      "i: 73\n",
      "i: 74\n",
      "i: 75\n",
      "i: 76\n",
      "i: 77\n",
      "i: 78\n",
      "i: 79\n",
      "i: 80\n",
      "i: 81\n",
      "i: 82\n",
      "i: 83\n",
      "i: 84\n",
      "i: 85\n",
      "i: 86\n",
      "i: 87\n",
      "i: 88\n",
      "i: 89\n",
      "i: 90\n",
      "i: 91\n",
      "i: 92\n",
      "i: 93\n",
      "i: 94\n",
      "i: 95\n",
      "i: 96\n",
      "i: 97\n",
      "i: 98\n",
      "i: 99\n"
     ]
    }
   ],
   "source": [
    "df_precisions, df_recalls = evaluate_method1(df_movies, index.keys(), index, df_ratings)"
   ]
  },
  {
   "cell_type": "code",
   "execution_count": 38,
   "metadata": {},
   "outputs": [
    {
     "data": {
      "text/plain": [
       "ridge      0.886170\n",
       "lasso           NaN\n",
       "elastic    0.878590\n",
       "svr        0.867956\n",
       "sgd             NaN\n",
       "dtype: float64"
      ]
     },
     "execution_count": 38,
     "metadata": {},
     "output_type": "execute_result"
    }
   ],
   "source": [
    "df_precisions.mean()"
   ]
  },
  {
   "cell_type": "code",
   "execution_count": 39,
   "metadata": {},
   "outputs": [
    {
     "data": {
      "text/plain": [
       "ridge      0.877878\n",
       "lasso           NaN\n",
       "elastic    0.907704\n",
       "svr        0.885604\n",
       "sgd             NaN\n",
       "dtype: float64"
      ]
     },
     "execution_count": 39,
     "metadata": {},
     "output_type": "execute_result"
    }
   ],
   "source": [
    "df_recalls.mean()"
   ]
  },
  {
   "cell_type": "code",
   "execution_count": null,
   "metadata": {},
   "outputs": [],
   "source": []
  }
 ],
 "metadata": {
  "kernelspec": {
   "display_name": "Python 3",
   "language": "python",
   "name": "python3"
  },
  "language_info": {
   "codemirror_mode": {
    "name": "ipython",
    "version": 3
   },
   "file_extension": ".py",
   "mimetype": "text/x-python",
   "name": "python",
   "nbconvert_exporter": "python",
   "pygments_lexer": "ipython3",
   "version": "3.6.9"
  }
 },
 "nbformat": 4,
 "nbformat_minor": 4
}
