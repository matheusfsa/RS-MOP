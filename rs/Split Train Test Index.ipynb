{
 "cells": [
  {
   "cell_type": "code",
   "execution_count": 1,
   "metadata": {},
   "outputs": [],
   "source": [
    "import pandas as pd\n",
    "import json\n",
    "from sklearn.model_selection import train_test_split"
   ]
  },
  {
   "cell_type": "code",
   "execution_count": 4,
   "metadata": {},
   "outputs": [],
   "source": [
    "#df_ratings = pd.read_csv('./app/datasets/ml-1m/ratings.csv')\n",
    "df_ratings = pd.read_table('./app/datasets/ml-1m/ratings.dat', delimiter='::', names=['userId', 'movieId', 'rating', 'timestamp'], engine='python')\n",
    "#df_ratings = df_ratings[df_ratings['movieId'] in df_movies.index.values]\n",
    "counts = df_ratings['userId'].value_counts() \n",
    "users = counts[counts>=100].index.values"
   ]
  },
  {
   "cell_type": "code",
   "execution_count": 5,
   "metadata": {},
   "outputs": [
    {
     "name": "stderr",
     "output_type": "stream",
     "text": [
      "/home/matheus/eclipse-workspace/RS-MOP/rs/venv/lib/python3.6/site-packages/ipykernel_launcher.py:1: ParserWarning: Falling back to the 'python' engine because the 'c' engine does not support regex separators (separators > 1 char and different from '\\s+' are interpreted as regex); you can avoid this warning by specifying engine='python'.\n",
      "  \"\"\"Entry point for launching an IPython kernel.\n"
     ]
    }
   ],
   "source": [
    "df_ratings_1m = pd.read_table('./app/datasets/ml-1m/ratings.dat', delimiter='::', names=['userId', 'movieId', 'rating', 'timestamp'])\n",
    "df_movies = pd.read_csv('./app/datasets/movies_imdb.csv')\n",
    "df_movies = df_movies.dropna(subset=['plots', 'genres', 'directors', 'rating', 'runtimes', 'title', 'year'])\n",
    "df_movies = df_movies.loc[:, ['movieId', 'plots', 'genres', 'directors', 'rating', 'runtimes', 'title', 'year']]\n",
    "df_ratings_1m = df_ratings_1m[df_ratings_1m['movieId'].isin(df_movies['movieId'])]\n",
    "df_ratings = df_ratings_1m"
   ]
  },
  {
   "cell_type": "code",
   "execution_count": 6,
   "metadata": {},
   "outputs": [
    {
     "data": {
      "text/plain": [
       "array([3315, 4837, 3158, 3726, 1887, 5841, 2750, 5709, 5193,  816,  558,\n",
       "       3169, 2395, 4084,    2,   35, 1224, 5607, 4053, 3563, 5466, 1162,\n",
       "       1361, 2564, 5831])"
      ]
     },
     "execution_count": 6,
     "metadata": {},
     "output_type": "execute_result"
    }
   ],
   "source": [
    "counts = df_ratings['userId'].value_counts() \n",
    "users = counts[counts>=100].index\n",
    "users = users.values\n",
    "import numpy as np\n",
    "users = np.random.choice(users, 25, replace=False)\n",
    "users"
   ]
  },
  {
   "cell_type": "code",
   "execution_count": 7,
   "metadata": {},
   "outputs": [],
   "source": [
    "df_ratings = df_ratings[df_ratings['userId'].isin(users)]"
   ]
  },
  {
   "cell_type": "code",
   "execution_count": 8,
   "metadata": {},
   "outputs": [],
   "source": [
    "data = {}\n",
    "for user in users:\n",
    "    df_ratings_u = df_ratings[df_ratings['userId']==user]\n",
    "    df_train, df_test = train_test_split(df_ratings_u, test_size=0.3)\n",
    "    user_index = {}\n",
    "    user_index['train'] = df_train.movieId.values.tolist()\n",
    "    user_index['test'] = df_test.movieId.values.tolist()\n",
    "    data[str(user)] = user_index\n",
    "with open('./app/datasets/index_sample.txt', 'w') as outfile:\n",
    "    json.dump(data, outfile)"
   ]
  },
  {
   "cell_type": "code",
   "execution_count": 9,
   "metadata": {},
   "outputs": [
    {
     "data": {
      "text/plain": [
       "25"
      ]
     },
     "execution_count": 9,
     "metadata": {},
     "output_type": "execute_result"
    }
   ],
   "source": [
    "len(list(data.keys()))"
   ]
  },
  {
   "cell_type": "code",
   "execution_count": null,
   "metadata": {},
   "outputs": [],
   "source": []
  }
 ],
 "metadata": {
  "kernelspec": {
   "display_name": "Python 3",
   "language": "python",
   "name": "python3"
  },
  "language_info": {
   "codemirror_mode": {
    "name": "ipython",
    "version": 3
   },
   "file_extension": ".py",
   "mimetype": "text/x-python",
   "name": "python",
   "nbconvert_exporter": "python",
   "pygments_lexer": "ipython3",
   "version": "3.6.9"
  }
 },
 "nbformat": 4,
 "nbformat_minor": 2
}
